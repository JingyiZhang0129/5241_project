{
 "cells": [
  {
   "cell_type": "code",
   "execution_count": 1,
   "id": "fca488c0",
   "metadata": {},
   "outputs": [],
   "source": [
    "import pandas as pd\n",
    "import numpy as np\n",
    "import seaborn as sns\n",
    "import matplotlib.pyplot as plt\n",
    "\n",
    "from sklearn.preprocessing import OrdinalEncoder\n",
    "from sklearn.preprocessing import OneHotEncoder\n",
    "from sklearn.preprocessing import StandardScaler\n",
    "\n",
    "from sklearn.model_selection import train_test_split\n",
    "from sklearn.model_selection import validation_curve\n",
    "from sklearn.model_selection import cross_val_score\n",
    "from sklearn.model_selection import GridSearchCV\n",
    "\n",
    "from sklearn.linear_model import LinearRegression\n",
    "from sklearn.linear_model import Ridge\n",
    "from sklearn.linear_model import Lasso\n",
    "\n",
    "from sklearn.svm import SVR\n",
    "from sklearn.tree import DecisionTreeRegressor\n",
    "from sklearn.ensemble import AdaBoostRegressor\n",
    "\n",
    "from sklearn.tree import DecisionTreeClassifier\n",
    "from sklearn.ensemble import RandomForestClassifier\n",
    "from sklearn.ensemble import AdaBoostClassifier\n",
    "from sklearn.svm import SVC\n",
    "from sklearn.decomposition import PCA"
   ]
  },
  {
   "cell_type": "code",
   "execution_count": 2,
   "id": "43040996",
   "metadata": {},
   "outputs": [
    {
     "name": "stderr",
     "output_type": "stream",
     "text": [
      "/var/folders/8r/f8xs7ssj5375m_ymty13gnww0000gn/T/ipykernel_34792/1370471252.py:2: DtypeWarning: Columns (27,41) have mixed types. Specify dtype option on import or set low_memory=False.\n",
      "  df = pd.read_csv(\"5241dataset.csv\", encoding = 'unicode_escape')\n"
     ]
    }
   ],
   "source": [
    "# Load Data\n",
    "df = pd.read_csv(\"5241dataset.csv\", encoding = 'unicode_escape')"
   ]
  },
  {
   "attachments": {},
   "cell_type": "markdown",
   "id": "a7c10bd2",
   "metadata": {},
   "source": [
    "## 1. Dataset Description"
   ]
  },
  {
   "cell_type": "code",
   "execution_count": 3,
   "id": "acdc0fc0",
   "metadata": {},
   "outputs": [
    {
     "name": "stdout",
     "output_type": "stream",
     "text": [
      "<class 'pandas.core.frame.DataFrame'>\n",
      "RangeIndex: 34931 entries, 0 to 34930\n",
      "Data columns (total 49 columns):\n",
      " #   Column                                  Non-Null Count  Dtype  \n",
      "---  ------                                  --------------  -----  \n",
      " 0   Record number                           34931 non-null  int64  \n",
      " 1   Individual ID                           33200 non-null  float64\n",
      " 2   Predator                                34931 non-null  object \n",
      " 3   Predator common name                    34931 non-null  object \n",
      " 4   Predator taxon                          34931 non-null  object \n",
      " 5   Predator lifestage                      34931 non-null  object \n",
      " 6   Type of feeding interaction             34931 non-null  object \n",
      " 7   Predator length                         34931 non-null  float64\n",
      " 8   Predator length unit                    34931 non-null  object \n",
      " 9   Predator standard length                34930 non-null  float64\n",
      " 10  Predator total length                   34818 non-null  float64\n",
      " 11  Predator TL/FL/SL conversion reference  29683 non-null  object \n",
      " 12  Standardised predator length            34931 non-null  float64\n",
      " 13  Predator mass                           34931 non-null  float64\n",
      " 14  Predator mass unit                      34931 non-null  object \n",
      " 15  Predator mass check                     34931 non-null  float64\n",
      " 16  Predator mass check diff                34931 non-null  float64\n",
      " 17  Predator ratio mass/mass                34931 non-null  float64\n",
      " 18  SI predator mass                        34931 non-null  float64\n",
      " 19  Diet coverage                           34931 non-null  object \n",
      " 20  Prey                                    34931 non-null  object \n",
      " 21  Prey common name                        34931 non-null  object \n",
      " 22  Prey taxon                              34931 non-null  object \n",
      " 23  Prey length                             34931 non-null  float64\n",
      " 24  Prey length unit                        34929 non-null  object \n",
      " 25  SI prey length                          34931 non-null  float64\n",
      " 26  Prey width                              964 non-null    float64\n",
      " 27  Prey width unit                         964 non-null    object \n",
      " 28  Prey mass                               34931 non-null  float64\n",
      " 29  Prey mass unit                          34931 non-null  object \n",
      " 30  Prey mass check                         34931 non-null  float64\n",
      " 31  Prey mass check diff                    34931 non-null  float64\n",
      " 32  Prey ratio mass/mass                    34931 non-null  float64\n",
      " 33  SI prey mass                            34931 non-null  float64\n",
      " 34  Geographic location                     34931 non-null  object \n",
      " 35  Latitude                                34931 non-null  object \n",
      " 36  Latitude Degree                         34931 non-null  int64  \n",
      " 37  Latitude Minute                         34931 non-null  int64  \n",
      " 38  Latitude label                          34931 non-null  object \n",
      " 39  Longitude                               34931 non-null  object \n",
      " 40  Longitude Degree                        34931 non-null  int64  \n",
      " 41  Longitude Minute                        34931 non-null  object \n",
      " 42  Longitude label                         34931 non-null  object \n",
      " 43  Depth                                   34931 non-null  int64  \n",
      " 44  Mean annual temp                        34931 non-null  float64\n",
      " 45  SD annual temp                          34931 non-null  float64\n",
      " 46  Mean PP                                 34931 non-null  int64  \n",
      " 47  SD PP                                   34931 non-null  float64\n",
      " 48  Specific habitat                        34931 non-null  object \n",
      "dtypes: float64(21), int64(6), object(22)\n",
      "memory usage: 13.1+ MB\n"
     ]
    }
   ],
   "source": [
    "df.info()"
   ]
  },
  {
   "cell_type": "code",
   "execution_count": 4,
   "id": "eafc0e67",
   "metadata": {},
   "outputs": [
    {
     "data": {
      "text/html": [
       "<div>\n",
       "<style scoped>\n",
       "    .dataframe tbody tr th:only-of-type {\n",
       "        vertical-align: middle;\n",
       "    }\n",
       "\n",
       "    .dataframe tbody tr th {\n",
       "        vertical-align: top;\n",
       "    }\n",
       "\n",
       "    .dataframe thead th {\n",
       "        text-align: right;\n",
       "    }\n",
       "</style>\n",
       "<table border=\"1\" class=\"dataframe\">\n",
       "  <thead>\n",
       "    <tr style=\"text-align: right;\">\n",
       "      <th></th>\n",
       "      <th>count</th>\n",
       "      <th>mean</th>\n",
       "      <th>std</th>\n",
       "      <th>min</th>\n",
       "      <th>25%</th>\n",
       "      <th>50%</th>\n",
       "      <th>75%</th>\n",
       "      <th>max</th>\n",
       "    </tr>\n",
       "  </thead>\n",
       "  <tbody>\n",
       "    <tr>\n",
       "      <th>Record number</th>\n",
       "      <td>34931.0</td>\n",
       "      <td>17466.000000</td>\n",
       "      <td>10083.855463</td>\n",
       "      <td>1.000000e+00</td>\n",
       "      <td>8733.50000</td>\n",
       "      <td>17466.0000</td>\n",
       "      <td>26198.500</td>\n",
       "      <td>34931.000</td>\n",
       "    </tr>\n",
       "    <tr>\n",
       "      <th>Individual ID</th>\n",
       "      <td>33200.0</td>\n",
       "      <td>7767.209699</td>\n",
       "      <td>5603.773065</td>\n",
       "      <td>1.000000e+00</td>\n",
       "      <td>2066.75000</td>\n",
       "      <td>7000.0000</td>\n",
       "      <td>12885.250</td>\n",
       "      <td>17668.000</td>\n",
       "    </tr>\n",
       "    <tr>\n",
       "      <th>Predator length</th>\n",
       "      <td>34931.0</td>\n",
       "      <td>411.708758</td>\n",
       "      <td>865.149724</td>\n",
       "      <td>3.000000e+00</td>\n",
       "      <td>67.50000</td>\n",
       "      <td>200.0000</td>\n",
       "      <td>570.000</td>\n",
       "      <td>17490.000</td>\n",
       "    </tr>\n",
       "    <tr>\n",
       "      <th>Predator standard length</th>\n",
       "      <td>34930.0</td>\n",
       "      <td>275.498247</td>\n",
       "      <td>851.527130</td>\n",
       "      <td>0.000000e+00</td>\n",
       "      <td>18.50000</td>\n",
       "      <td>92.0000</td>\n",
       "      <td>287.360</td>\n",
       "      <td>17490.000</td>\n",
       "    </tr>\n",
       "    <tr>\n",
       "      <th>Predator total length</th>\n",
       "      <td>34818.0</td>\n",
       "      <td>410.125251</td>\n",
       "      <td>891.934132</td>\n",
       "      <td>0.000000e+00</td>\n",
       "      <td>73.41000</td>\n",
       "      <td>210.0000</td>\n",
       "      <td>570.000</td>\n",
       "      <td>22423.000</td>\n",
       "    </tr>\n",
       "    <tr>\n",
       "      <th>Standardised predator length</th>\n",
       "      <td>34931.0</td>\n",
       "      <td>68.362248</td>\n",
       "      <td>53.988482</td>\n",
       "      <td>3.000000e-01</td>\n",
       "      <td>28.92000</td>\n",
       "      <td>68.0000</td>\n",
       "      <td>94.000</td>\n",
       "      <td>309.690</td>\n",
       "    </tr>\n",
       "    <tr>\n",
       "      <th>Predator mass</th>\n",
       "      <td>34931.0</td>\n",
       "      <td>15292.363560</td>\n",
       "      <td>46260.898001</td>\n",
       "      <td>1.140000e-04</td>\n",
       "      <td>172.01000</td>\n",
       "      <td>1751.1000</td>\n",
       "      <td>6325.500</td>\n",
       "      <td>415600.000</td>\n",
       "    </tr>\n",
       "    <tr>\n",
       "      <th>Predator mass check</th>\n",
       "      <td>34931.0</td>\n",
       "      <td>57433.601425</td>\n",
       "      <td>142121.384771</td>\n",
       "      <td>1.413000e-03</td>\n",
       "      <td>1265.80000</td>\n",
       "      <td>16455.0000</td>\n",
       "      <td>43467.000</td>\n",
       "      <td>1554400.000</td>\n",
       "    </tr>\n",
       "    <tr>\n",
       "      <th>Predator mass check diff</th>\n",
       "      <td>34931.0</td>\n",
       "      <td>42141.261535</td>\n",
       "      <td>97206.742764</td>\n",
       "      <td>1.298700e-03</td>\n",
       "      <td>995.64000</td>\n",
       "      <td>12997.0000</td>\n",
       "      <td>37417.000</td>\n",
       "      <td>1174300.000</td>\n",
       "    </tr>\n",
       "    <tr>\n",
       "      <th>Predator ratio mass/mass</th>\n",
       "      <td>34931.0</td>\n",
       "      <td>7.488458</td>\n",
       "      <td>5.037282</td>\n",
       "      <td>1.053500e+00</td>\n",
       "      <td>4.11160</td>\n",
       "      <td>6.5149</td>\n",
       "      <td>10.104</td>\n",
       "      <td>79.568</td>\n",
       "    </tr>\n",
       "    <tr>\n",
       "      <th>SI predator mass</th>\n",
       "      <td>34931.0</td>\n",
       "      <td>15292.363560</td>\n",
       "      <td>46260.898001</td>\n",
       "      <td>1.140000e-04</td>\n",
       "      <td>172.01000</td>\n",
       "      <td>1751.1000</td>\n",
       "      <td>6325.500</td>\n",
       "      <td>415600.000</td>\n",
       "    </tr>\n",
       "    <tr>\n",
       "      <th>Prey length</th>\n",
       "      <td>34931.0</td>\n",
       "      <td>72.617237</td>\n",
       "      <td>214.978864</td>\n",
       "      <td>8.000000e-02</td>\n",
       "      <td>4.68225</td>\n",
       "      <td>21.9890</td>\n",
       "      <td>90.000</td>\n",
       "      <td>17976.000</td>\n",
       "    </tr>\n",
       "    <tr>\n",
       "      <th>SI prey length</th>\n",
       "      <td>34931.0</td>\n",
       "      <td>8.128151</td>\n",
       "      <td>9.084534</td>\n",
       "      <td>4.160000e-04</td>\n",
       "      <td>2.19945</td>\n",
       "      <td>5.0000</td>\n",
       "      <td>12.000</td>\n",
       "      <td>122.660</td>\n",
       "    </tr>\n",
       "    <tr>\n",
       "      <th>Prey width</th>\n",
       "      <td>964.0</td>\n",
       "      <td>266.169233</td>\n",
       "      <td>238.438741</td>\n",
       "      <td>4.530000e-01</td>\n",
       "      <td>110.00000</td>\n",
       "      <td>216.0000</td>\n",
       "      <td>331.500</td>\n",
       "      <td>1950.000</td>\n",
       "    </tr>\n",
       "    <tr>\n",
       "      <th>Prey mass</th>\n",
       "      <td>34931.0</td>\n",
       "      <td>28.409896</td>\n",
       "      <td>121.990812</td>\n",
       "      <td>7.530000e-11</td>\n",
       "      <td>0.16240</td>\n",
       "      <td>1.4888</td>\n",
       "      <td>17.227</td>\n",
       "      <td>4587.100</td>\n",
       "    </tr>\n",
       "    <tr>\n",
       "      <th>Prey mass check</th>\n",
       "      <td>34931.0</td>\n",
       "      <td>264.665719</td>\n",
       "      <td>2501.661458</td>\n",
       "      <td>3.770000e-12</td>\n",
       "      <td>0.55684</td>\n",
       "      <td>6.5417</td>\n",
       "      <td>90.432</td>\n",
       "      <td>96571.000</td>\n",
       "    </tr>\n",
       "    <tr>\n",
       "      <th>Prey mass check diff</th>\n",
       "      <td>34931.0</td>\n",
       "      <td>236.258016</td>\n",
       "      <td>2460.368288</td>\n",
       "      <td>-1.151000e+02</td>\n",
       "      <td>0.22081</td>\n",
       "      <td>4.6817</td>\n",
       "      <td>73.152</td>\n",
       "      <td>96135.000</td>\n",
       "    </tr>\n",
       "    <tr>\n",
       "      <th>Prey ratio mass/mass</th>\n",
       "      <td>34931.0</td>\n",
       "      <td>8.610662</td>\n",
       "      <td>35.534542</td>\n",
       "      <td>1.915600e-02</td>\n",
       "      <td>3.19750</td>\n",
       "      <td>5.2333</td>\n",
       "      <td>6.991</td>\n",
       "      <td>846.700</td>\n",
       "    </tr>\n",
       "    <tr>\n",
       "      <th>SI prey mass</th>\n",
       "      <td>34931.0</td>\n",
       "      <td>28.407359</td>\n",
       "      <td>121.991367</td>\n",
       "      <td>7.530000e-11</td>\n",
       "      <td>0.16240</td>\n",
       "      <td>1.4888</td>\n",
       "      <td>17.227</td>\n",
       "      <td>4587.100</td>\n",
       "    </tr>\n",
       "    <tr>\n",
       "      <th>Latitude Degree</th>\n",
       "      <td>34931.0</td>\n",
       "      <td>40.118605</td>\n",
       "      <td>12.041278</td>\n",
       "      <td>8.000000e+00</td>\n",
       "      <td>40.00000</td>\n",
       "      <td>40.0000</td>\n",
       "      <td>45.000</td>\n",
       "      <td>66.000</td>\n",
       "    </tr>\n",
       "    <tr>\n",
       "      <th>Latitude Minute</th>\n",
       "      <td>34931.0</td>\n",
       "      <td>9.778821</td>\n",
       "      <td>21.456202</td>\n",
       "      <td>0.000000e+00</td>\n",
       "      <td>0.00000</td>\n",
       "      <td>0.0000</td>\n",
       "      <td>0.000</td>\n",
       "      <td>86.000</td>\n",
       "    </tr>\n",
       "    <tr>\n",
       "      <th>Longitude Degree</th>\n",
       "      <td>34931.0</td>\n",
       "      <td>47.276545</td>\n",
       "      <td>28.059336</td>\n",
       "      <td>2.000000e+00</td>\n",
       "      <td>14.00000</td>\n",
       "      <td>70.0000</td>\n",
       "      <td>71.000</td>\n",
       "      <td>97.000</td>\n",
       "    </tr>\n",
       "    <tr>\n",
       "      <th>Depth</th>\n",
       "      <td>34931.0</td>\n",
       "      <td>1561.806418</td>\n",
       "      <td>1768.576051</td>\n",
       "      <td>5.000000e+00</td>\n",
       "      <td>677.00000</td>\n",
       "      <td>677.0000</td>\n",
       "      <td>3322.000</td>\n",
       "      <td>4785.000</td>\n",
       "    </tr>\n",
       "    <tr>\n",
       "      <th>Mean annual temp</th>\n",
       "      <td>34931.0</td>\n",
       "      <td>15.166128</td>\n",
       "      <td>6.466898</td>\n",
       "      <td>-1.300000e+00</td>\n",
       "      <td>13.90000</td>\n",
       "      <td>15.1000</td>\n",
       "      <td>15.400</td>\n",
       "      <td>29.000</td>\n",
       "    </tr>\n",
       "    <tr>\n",
       "      <th>SD annual temp</th>\n",
       "      <td>34931.0</td>\n",
       "      <td>4.366302</td>\n",
       "      <td>2.285000</td>\n",
       "      <td>6.000000e-01</td>\n",
       "      <td>2.50000</td>\n",
       "      <td>5.6000</td>\n",
       "      <td>6.400</td>\n",
       "      <td>6.600</td>\n",
       "    </tr>\n",
       "    <tr>\n",
       "      <th>Mean PP</th>\n",
       "      <td>34931.0</td>\n",
       "      <td>727.152243</td>\n",
       "      <td>320.066435</td>\n",
       "      <td>9.100000e+01</td>\n",
       "      <td>437.00000</td>\n",
       "      <td>867.0000</td>\n",
       "      <td>867.000</td>\n",
       "      <td>1739.000</td>\n",
       "    </tr>\n",
       "    <tr>\n",
       "      <th>SD PP</th>\n",
       "      <td>34931.0</td>\n",
       "      <td>69.225888</td>\n",
       "      <td>34.382417</td>\n",
       "      <td>7.000000e+00</td>\n",
       "      <td>38.00000</td>\n",
       "      <td>80.0000</td>\n",
       "      <td>80.000</td>\n",
       "      <td>214.000</td>\n",
       "    </tr>\n",
       "  </tbody>\n",
       "</table>\n",
       "</div>"
      ],
      "text/plain": [
       "                                count          mean            std  \\\n",
       "Record number                 34931.0  17466.000000   10083.855463   \n",
       "Individual ID                 33200.0   7767.209699    5603.773065   \n",
       "Predator length               34931.0    411.708758     865.149724   \n",
       "Predator standard length      34930.0    275.498247     851.527130   \n",
       "Predator total length         34818.0    410.125251     891.934132   \n",
       "Standardised predator length  34931.0     68.362248      53.988482   \n",
       "Predator mass                 34931.0  15292.363560   46260.898001   \n",
       "Predator mass check           34931.0  57433.601425  142121.384771   \n",
       "Predator mass check diff      34931.0  42141.261535   97206.742764   \n",
       "Predator ratio mass/mass      34931.0      7.488458       5.037282   \n",
       "SI predator mass              34931.0  15292.363560   46260.898001   \n",
       "Prey length                   34931.0     72.617237     214.978864   \n",
       "SI prey length                34931.0      8.128151       9.084534   \n",
       "Prey width                      964.0    266.169233     238.438741   \n",
       "Prey mass                     34931.0     28.409896     121.990812   \n",
       "Prey mass check               34931.0    264.665719    2501.661458   \n",
       "Prey mass check diff          34931.0    236.258016    2460.368288   \n",
       "Prey ratio mass/mass          34931.0      8.610662      35.534542   \n",
       "SI prey mass                  34931.0     28.407359     121.991367   \n",
       "Latitude Degree               34931.0     40.118605      12.041278   \n",
       "Latitude Minute               34931.0      9.778821      21.456202   \n",
       "Longitude Degree              34931.0     47.276545      28.059336   \n",
       "Depth                         34931.0   1561.806418    1768.576051   \n",
       "Mean annual temp              34931.0     15.166128       6.466898   \n",
       "SD annual temp                34931.0      4.366302       2.285000   \n",
       "Mean PP                       34931.0    727.152243     320.066435   \n",
       "SD PP                         34931.0     69.225888      34.382417   \n",
       "\n",
       "                                       min         25%         50%        75%  \\\n",
       "Record number                 1.000000e+00  8733.50000  17466.0000  26198.500   \n",
       "Individual ID                 1.000000e+00  2066.75000   7000.0000  12885.250   \n",
       "Predator length               3.000000e+00    67.50000    200.0000    570.000   \n",
       "Predator standard length      0.000000e+00    18.50000     92.0000    287.360   \n",
       "Predator total length         0.000000e+00    73.41000    210.0000    570.000   \n",
       "Standardised predator length  3.000000e-01    28.92000     68.0000     94.000   \n",
       "Predator mass                 1.140000e-04   172.01000   1751.1000   6325.500   \n",
       "Predator mass check           1.413000e-03  1265.80000  16455.0000  43467.000   \n",
       "Predator mass check diff      1.298700e-03   995.64000  12997.0000  37417.000   \n",
       "Predator ratio mass/mass      1.053500e+00     4.11160      6.5149     10.104   \n",
       "SI predator mass              1.140000e-04   172.01000   1751.1000   6325.500   \n",
       "Prey length                   8.000000e-02     4.68225     21.9890     90.000   \n",
       "SI prey length                4.160000e-04     2.19945      5.0000     12.000   \n",
       "Prey width                    4.530000e-01   110.00000    216.0000    331.500   \n",
       "Prey mass                     7.530000e-11     0.16240      1.4888     17.227   \n",
       "Prey mass check               3.770000e-12     0.55684      6.5417     90.432   \n",
       "Prey mass check diff         -1.151000e+02     0.22081      4.6817     73.152   \n",
       "Prey ratio mass/mass          1.915600e-02     3.19750      5.2333      6.991   \n",
       "SI prey mass                  7.530000e-11     0.16240      1.4888     17.227   \n",
       "Latitude Degree               8.000000e+00    40.00000     40.0000     45.000   \n",
       "Latitude Minute               0.000000e+00     0.00000      0.0000      0.000   \n",
       "Longitude Degree              2.000000e+00    14.00000     70.0000     71.000   \n",
       "Depth                         5.000000e+00   677.00000    677.0000   3322.000   \n",
       "Mean annual temp             -1.300000e+00    13.90000     15.1000     15.400   \n",
       "SD annual temp                6.000000e-01     2.50000      5.6000      6.400   \n",
       "Mean PP                       9.100000e+01   437.00000    867.0000    867.000   \n",
       "SD PP                         7.000000e+00    38.00000     80.0000     80.000   \n",
       "\n",
       "                                      max  \n",
       "Record number                   34931.000  \n",
       "Individual ID                   17668.000  \n",
       "Predator length                 17490.000  \n",
       "Predator standard length        17490.000  \n",
       "Predator total length           22423.000  \n",
       "Standardised predator length      309.690  \n",
       "Predator mass                  415600.000  \n",
       "Predator mass check           1554400.000  \n",
       "Predator mass check diff      1174300.000  \n",
       "Predator ratio mass/mass           79.568  \n",
       "SI predator mass               415600.000  \n",
       "Prey length                     17976.000  \n",
       "SI prey length                    122.660  \n",
       "Prey width                       1950.000  \n",
       "Prey mass                        4587.100  \n",
       "Prey mass check                 96571.000  \n",
       "Prey mass check diff            96135.000  \n",
       "Prey ratio mass/mass              846.700  \n",
       "SI prey mass                     4587.100  \n",
       "Latitude Degree                    66.000  \n",
       "Latitude Minute                    86.000  \n",
       "Longitude Degree                   97.000  \n",
       "Depth                            4785.000  \n",
       "Mean annual temp                   29.000  \n",
       "SD annual temp                      6.600  \n",
       "Mean PP                          1739.000  \n",
       "SD PP                             214.000  "
      ]
     },
     "execution_count": 4,
     "metadata": {},
     "output_type": "execute_result"
    }
   ],
   "source": [
    "df.describe().T"
   ]
  },
  {
   "attachments": {},
   "cell_type": "markdown",
   "id": "7a33277d",
   "metadata": {},
   "source": [
    "## 2. Data Cleaning"
   ]
  },
  {
   "attachments": {},
   "cell_type": "markdown",
   "id": "204e5004",
   "metadata": {},
   "source": [
    "### 2.1 Missing Values"
   ]
  },
  {
   "cell_type": "code",
   "execution_count": 5,
   "id": "2d8e82d4",
   "metadata": {},
   "outputs": [
    {
     "name": "stdout",
     "output_type": "stream",
     "text": [
      "The columns contain missing values are:\n",
      " Index(['Individual ID', 'Predator standard length', 'Predator total length',\n",
      "       'Predator TL/FL/SL conversion reference', 'Prey length unit',\n",
      "       'Prey width', 'Prey width unit'],\n",
      "      dtype='object')\n"
     ]
    },
    {
     "data": {
      "image/png": "[encoded data removed]",
      "text/plain": [
       "<Figure size 1500x400 with 1 Axes>"
      ]
     },
     "metadata": {},
     "output_type": "display_data"
    }
   ],
   "source": [
    "col_na = df.columns[df.isna().any()]\n",
    "col_na_ratio = df.isna().sum()/df.shape[0]\n",
    "\n",
    "print(\"The columns contain missing values are:\\n\", col_na)\n",
    "\n",
    "fig,ax = plt.subplots(figsize=(15,4))\n",
    "sns.barplot(x = df.columns, y = col_na_ratio, ax = ax)\n",
    "\n",
    "ax.tick_params(axis = 'x', rotation = 90)\n",
    "ax.set_xlabel('Features')\n",
    "ax.set_ylabel('Missing Rate')\n",
    "ax.set_title('Missing Rates of Different Features')\n",
    "\n",
    "plt.tick_params(labelsize=6)\n",
    "plt.show()"
   ]
  },
  {
   "cell_type": "code",
   "execution_count": 6,
   "id": "0b76c66d",
   "metadata": {},
   "outputs": [],
   "source": [
    "df.drop(['Individual ID','Predator TL/FL/SL conversion reference','Prey width','Prey width unit'], axis = 1, inplace = True)"
   ]
  },
  {
   "cell_type": "code",
   "execution_count": 7,
   "id": "e28f2001",
   "metadata": {},
   "outputs": [
    {
     "data": {
      "text/plain": [
       "Index(['Record number', 'Predator', 'Predator common name', 'Predator taxon',\n",
       "       'Predator lifestage', 'Type of feeding interaction', 'Predator length',\n",
       "       'Predator length unit', 'Predator standard length',\n",
       "       'Predator total length', 'Standardised predator length',\n",
       "       'Predator mass', 'Predator mass unit', 'Predator mass check',\n",
       "       'Predator mass check diff', 'Predator ratio mass/mass',\n",
       "       'SI predator mass', 'Diet coverage', 'Prey', 'Prey common name',\n",
       "       'Prey taxon', 'Prey length', 'Prey length unit', 'SI prey length',\n",
       "       'Prey mass', 'Prey mass unit', 'Prey mass check',\n",
       "       'Prey mass check diff', 'Prey ratio mass/mass', 'SI prey mass',\n",
       "       'Geographic location', 'Latitude', 'Latitude Degree', 'Latitude Minute',\n",
       "       'Latitude label', 'Longitude', 'Longitude Degree', 'Longitude Minute',\n",
       "       'Longitude label', 'Depth', 'Mean annual temp', 'SD annual temp',\n",
       "       'Mean PP', 'SD PP', 'Specific habitat'],\n",
       "      dtype='object')"
      ]
     },
     "execution_count": 7,
     "metadata": {},
     "output_type": "execute_result"
    }
   ],
   "source": [
    "df.columns"
   ]
  },
  {
   "attachments": {},
   "cell_type": "markdown",
   "id": "f9b8efa6",
   "metadata": {},
   "source": [
    "### 2.2 Dataset Split"
   ]
  },
  {
   "cell_type": "code",
   "execution_count": 8,
   "id": "b5633ed5",
   "metadata": {},
   "outputs": [],
   "source": [
    "df_predator = df[['Record number', 'Predator', 'Predator common name', 'Predator taxon',\n",
    "                'Predator lifestage', 'Type of feeding interaction', 'Predator length',\n",
    "                'Predator length unit', 'Predator standard length','Predator total length', \n",
    "                'Standardised predator length','Predator mass', 'Predator mass unit', 'Predator mass check',\n",
    "                'Predator mass check diff', 'Predator ratio mass/mass','SI predator mass', 'Diet coverage',\n",
    "                'Geographic location', 'Latitude', 'Latitude Degree', 'Latitude Minute','Latitude label', \n",
    "                'Longitude', 'Longitude Degree', 'Longitude Minute','Longitude label', 'Depth', \n",
    "                'Mean annual temp', 'SD annual temp','Mean PP', 'SD PP', 'Specific habitat']]\n",
    "df_prey = df[['Prey', 'Prey common name', 'Prey taxon', 'Prey length', 'Prey length unit', 'SI prey length',\n",
    "                'Prey mass', 'Prey mass unit', 'Prey mass check', 'Prey mass check diff', 'Prey ratio mass/mass', \n",
    "                'SI prey mass', 'Geographic location', 'Latitude', 'Latitude Degree', 'Latitude Minute',\n",
    "                'Latitude label', 'Longitude', 'Longitude Degree', 'Longitude Minute','Longitude label', \n",
    "                'Depth', 'Mean annual temp', 'SD annual temp','Mean PP', 'SD PP', 'Specific habitat']]"
   ]
  },
  {
   "cell_type": "code",
   "execution_count": 9,
   "id": "c2944703",
   "metadata": {},
   "outputs": [],
   "source": [
    "#major_predator = df_predator['Predator common name'].value_counts()/df_predator.shape[0] >= 0.05\n",
    "#major_predator_names = major_predator[major_predator == True].index\n",
    "#major_predator_names"
   ]
  },
  {
   "cell_type": "code",
   "execution_count": 10,
   "id": "4350e9c9",
   "metadata": {},
   "outputs": [],
   "source": [
    "#df_names = []\n",
    "#for name in major_predator_names:\n",
    "#    df_names.append(df_predator[df_predator['Predator common name'] == name])\n",
    "#df_predator = pd.concat(df_names, ignore_index= True)"
   ]
  },
  {
   "attachments": {},
   "cell_type": "markdown",
   "id": "e8eefdcc",
   "metadata": {},
   "source": [
    "#### 2.2.1 Predator Dataframe"
   ]
  },
  {
   "cell_type": "code",
   "execution_count": 11,
   "id": "2685b411",
   "metadata": {},
   "outputs": [
    {
     "data": {
      "text/plain": [
       "mm    22069\n",
       "cm    12423\n",
       "µm      439\n",
       "Name: Predator length unit, dtype: int64"
      ]
     },
     "execution_count": 11,
     "metadata": {},
     "output_type": "execute_result"
    }
   ],
   "source": [
    "df_predator['Predator length unit'].value_counts()"
   ]
  },
  {
   "cell_type": "code",
   "execution_count": 12,
   "id": "1d9be22c",
   "metadata": {},
   "outputs": [
    {
     "name": "stderr",
     "output_type": "stream",
     "text": [
      "/var/folders/8r/f8xs7ssj5375m_ymty13gnww0000gn/T/ipykernel_34792/556351888.py:3: SettingWithCopyWarning: \n",
      "A value is trying to be set on a copy of a slice from a DataFrame\n",
      "\n",
      "See the caveats in the documentation: https://pandas.pydata.org/pandas-docs/stable/user_guide/indexing.html#returning-a-view-versus-a-copy\n",
      "  df_predator['Predator length'][i] = df_predator['Predator length'][i]*0.1\n",
      "/var/folders/8r/f8xs7ssj5375m_ymty13gnww0000gn/T/ipykernel_34792/556351888.py:5: SettingWithCopyWarning: \n",
      "A value is trying to be set on a copy of a slice from a DataFrame\n",
      "\n",
      "See the caveats in the documentation: https://pandas.pydata.org/pandas-docs/stable/user_guide/indexing.html#returning-a-view-versus-a-copy\n",
      "  df_predator['Predator length'][i] = df_predator['Predator length'][i]*0.0001\n"
     ]
    }
   ],
   "source": [
    "for i in range(df_predator.shape[0]):\n",
    "    if df_predator['Predator length unit'][i] == 'mm':\n",
    "        df_predator['Predator length'][i] = df_predator['Predator length'][i]*0.1\n",
    "    if df_predator['Predator length unit'][i] == 'µm':\n",
    "        df_predator['Predator length'][i] = df_predator['Predator length'][i]*0.0001\n",
    "    else:\n",
    "        continue"
   ]
  },
  {
   "cell_type": "code",
   "execution_count": 13,
   "id": "ab8c4048",
   "metadata": {},
   "outputs": [
    {
     "data": {
      "text/plain": [
       "g    34931\n",
       "Name: Predator mass unit, dtype: int64"
      ]
     },
     "execution_count": 13,
     "metadata": {},
     "output_type": "execute_result"
    }
   ],
   "source": [
    "df_predator['Predator mass unit'].value_counts()"
   ]
  },
  {
   "cell_type": "code",
   "execution_count": 14,
   "id": "62e2683a",
   "metadata": {},
   "outputs": [
    {
     "name": "stderr",
     "output_type": "stream",
     "text": [
      "/var/folders/8r/f8xs7ssj5375m_ymty13gnww0000gn/T/ipykernel_34792/2564476634.py:1: SettingWithCopyWarning: \n",
      "A value is trying to be set on a copy of a slice from a DataFrame\n",
      "\n",
      "See the caveats in the documentation: https://pandas.pydata.org/pandas-docs/stable/user_guide/indexing.html#returning-a-view-versus-a-copy\n",
      "  df_predator.drop(['Predator length unit'], axis = 1, inplace = True)\n"
     ]
    }
   ],
   "source": [
    "df_predator.drop(['Predator length unit'], axis = 1, inplace = True)"
   ]
  },
  {
   "cell_type": "code",
   "execution_count": 15,
   "id": "02ee0363",
   "metadata": {},
   "outputs": [
    {
     "data": {
      "text/plain": [
       "Index(['Albacore', 'Spurdog / spiny dogfish', 'Atlantic cod', 'Yellowfin tuna',\n",
       "       'Atlantic bluefin tuna', 'Bigeye tuna'],\n",
       "      dtype='object')"
      ]
     },
     "execution_count": 15,
     "metadata": {},
     "output_type": "execute_result"
    }
   ],
   "source": [
    "major_predator = df_predator['Predator common name'].value_counts()/df_predator.shape[0] >= 0.05\n",
    "major_predator_names = major_predator[major_predator == True].index\n",
    "major_predator_names"
   ]
  },
  {
   "cell_type": "code",
   "execution_count": 16,
   "id": "3d36c87d",
   "metadata": {},
   "outputs": [],
   "source": [
    "df_names = []\n",
    "for name in major_predator_names:\n",
    "    df_names.append(df_predator[df_predator['Predator common name'] == name])\n",
    "df_predator_new = pd.concat(df_names, ignore_index= True)"
   ]
  },
  {
   "cell_type": "code",
   "execution_count": 17,
   "id": "58e50219",
   "metadata": {},
   "outputs": [],
   "source": [
    "predator_y = df_predator_new['Predator common name']\n",
    "predator_x = df_predator_new[['Predator taxon','Predator lifestage', 'Type of feeding interaction','Predator length','Predator mass',\n",
    "                            'Diet coverage','Geographic location','Depth','Mean annual temp', 'Mean PP', 'Specific habitat']]"
   ]
  },
  {
   "attachments": {},
   "cell_type": "markdown",
   "id": "0896a789",
   "metadata": {},
   "source": [
    "#### 2.2.2 Prey Dataframe"
   ]
  },
  {
   "cell_type": "code",
   "execution_count": 18,
   "id": "09087a42",
   "metadata": {},
   "outputs": [
    {
     "data": {
      "text/plain": [
       "mm    22471\n",
       "cm    11489\n",
       "µm      969\n",
       "Name: Prey length unit, dtype: int64"
      ]
     },
     "execution_count": 18,
     "metadata": {},
     "output_type": "execute_result"
    }
   ],
   "source": [
    "df_prey['Prey length unit'].value_counts()"
   ]
  },
  {
   "cell_type": "code",
   "execution_count": 19,
   "id": "80e6cf1a",
   "metadata": {},
   "outputs": [
    {
     "name": "stderr",
     "output_type": "stream",
     "text": [
      "/var/folders/8r/f8xs7ssj5375m_ymty13gnww0000gn/T/ipykernel_34792/946970684.py:3: SettingWithCopyWarning: \n",
      "A value is trying to be set on a copy of a slice from a DataFrame\n",
      "\n",
      "See the caveats in the documentation: https://pandas.pydata.org/pandas-docs/stable/user_guide/indexing.html#returning-a-view-versus-a-copy\n",
      "  df_prey['Prey length'][i] = df_prey['Prey length'][i]*0.1\n",
      "/var/folders/8r/f8xs7ssj5375m_ymty13gnww0000gn/T/ipykernel_34792/946970684.py:5: SettingWithCopyWarning: \n",
      "A value is trying to be set on a copy of a slice from a DataFrame\n",
      "\n",
      "See the caveats in the documentation: https://pandas.pydata.org/pandas-docs/stable/user_guide/indexing.html#returning-a-view-versus-a-copy\n",
      "  df_prey['Prey length'][i] = df_prey['Prey length'][i]*0.0001\n"
     ]
    }
   ],
   "source": [
    "for i in range(df_prey.shape[0]):\n",
    "    if df_prey['Prey length unit'][i] == 'mm':\n",
    "        df_prey['Prey length'][i] = df_prey['Prey length'][i]*0.1\n",
    "    if df_prey['Prey length unit'][i] == 'µm':\n",
    "        df_prey['Prey length'][i] = df_prey['Prey length'][i]*0.0001\n",
    "    else:\n",
    "        continue"
   ]
  },
  {
   "cell_type": "code",
   "execution_count": 20,
   "id": "d3c0c4f2",
   "metadata": {},
   "outputs": [
    {
     "data": {
      "text/plain": [
       "g     34728\n",
       "mg      203\n",
       "Name: Prey mass unit, dtype: int64"
      ]
     },
     "execution_count": 20,
     "metadata": {},
     "output_type": "execute_result"
    }
   ],
   "source": [
    "df_prey['Prey mass unit'].value_counts()"
   ]
  },
  {
   "cell_type": "code",
   "execution_count": 21,
   "id": "2afbaaa1",
   "metadata": {},
   "outputs": [
    {
     "name": "stderr",
     "output_type": "stream",
     "text": [
      "/var/folders/8r/f8xs7ssj5375m_ymty13gnww0000gn/T/ipykernel_34792/1295962586.py:3: SettingWithCopyWarning: \n",
      "A value is trying to be set on a copy of a slice from a DataFrame\n",
      "\n",
      "See the caveats in the documentation: https://pandas.pydata.org/pandas-docs/stable/user_guide/indexing.html#returning-a-view-versus-a-copy\n",
      "  df_prey['Prey mass'][i] = df_prey['Prey mass'][i]*0.001\n"
     ]
    }
   ],
   "source": [
    "for i in range(df_prey.shape[0]):\n",
    "    if df_prey['Prey mass unit'][i] == 'mg':\n",
    "        df_prey['Prey mass'][i] = df_prey['Prey mass'][i]*0.001\n",
    "    else:\n",
    "        continue"
   ]
  },
  {
   "cell_type": "code",
   "execution_count": 22,
   "id": "dd4311e7",
   "metadata": {},
   "outputs": [
    {
     "name": "stderr",
     "output_type": "stream",
     "text": [
      "/var/folders/8r/f8xs7ssj5375m_ymty13gnww0000gn/T/ipykernel_34792/3688790300.py:1: SettingWithCopyWarning: \n",
      "A value is trying to be set on a copy of a slice from a DataFrame\n",
      "\n",
      "See the caveats in the documentation: https://pandas.pydata.org/pandas-docs/stable/user_guide/indexing.html#returning-a-view-versus-a-copy\n",
      "  df_prey.drop(['Prey length unit','Prey mass unit'], axis = 1, inplace = True)\n"
     ]
    }
   ],
   "source": [
    "df_prey.drop(['Prey length unit','Prey mass unit'], axis = 1, inplace = True)"
   ]
  },
  {
   "cell_type": "code",
   "execution_count": 23,
   "id": "ba6ad3f1",
   "metadata": {},
   "outputs": [],
   "source": [
    "prey_y = df_prey['Prey taxon']\n",
    "prey_x = df_prey[['Prey length','Prey mass', 'Geographic location','Depth', 'Mean annual temp', 'Mean PP', 'Specific habitat']]"
   ]
  },
  {
   "attachments": {},
   "cell_type": "markdown",
   "id": "bee84bc5",
   "metadata": {},
   "source": [
    "## 3. Data Visualization"
   ]
  },
  {
   "attachments": {},
   "cell_type": "markdown",
   "id": "75534018",
   "metadata": {},
   "source": [
    "### 3.1 Correlations of Independent Variables"
   ]
  },
  {
   "cell_type": "code",
   "execution_count": 24,
   "id": "3c18ce07",
   "metadata": {},
   "outputs": [
    {
     "data": {
      "image/png": "[encoded data removed]",
      "text/plain": [
       "<Figure size 400x400 with 2 Axes>"
      ]
     },
     "metadata": {},
     "output_type": "display_data"
    }
   ],
   "source": [
    "# Predators\n",
    "corr_matrix = predator_x.corr()\n",
    "fig = plt.figure(figsize = (4,4))\n",
    "plt.title('Correlations of Predators')\n",
    "sns.heatmap(corr_matrix, annot=True, annot_kws={\"size\":6}, center=0, cmap=\"YlGn\")\n",
    "plt.show()"
   ]
  },
  {
   "cell_type": "code",
   "execution_count": 25,
   "id": "ed8c82ab",
   "metadata": {},
   "outputs": [
    {
     "data": {
      "image/png": "[encoded data removed]",
      "text/plain": [
       "<Figure size 400x400 with 2 Axes>"
      ]
     },
     "metadata": {},
     "output_type": "display_data"
    }
   ],
   "source": [
    "# Preys\n",
    "corr_matrix = prey_x.corr()\n",
    "fig = plt.figure(figsize = (4,4))\n",
    "plt.title('Correlations of Preys')\n",
    "sns.heatmap(corr_matrix, annot=True, annot_kws={\"size\":6}, center=0, cmap=\"YlGn\")\n",
    "plt.show()"
   ]
  },
  {
   "attachments": {},
   "cell_type": "markdown",
   "id": "c1e42679",
   "metadata": {},
   "source": [
    "### 3.2 Distribution of Dependent Variable"
   ]
  },
  {
   "cell_type": "code",
   "execution_count": 26,
   "id": "d7b9d059",
   "metadata": {},
   "outputs": [
    {
     "data": {
      "image/png": "[encoded data removed]",
      "text/plain": [
       "<Figure size 500x500 with 1 Axes>"
      ]
     },
     "metadata": {},
     "output_type": "display_data"
    }
   ],
   "source": [
    "fig, ax=plt.subplots(figsize=(5,5))\n",
    "sns.histplot(predator_y, ax=ax)\n",
    "plt.xticks(rotation = 90)\n",
    "plt.show()"
   ]
  },
  {
   "cell_type": "code",
   "execution_count": 27,
   "id": "236da0f7",
   "metadata": {},
   "outputs": [
    {
     "data": {
      "image/png": "[encoded data removed]",
      "text/plain": [
       "<Figure size 500x500 with 1 Axes>"
      ]
     },
     "metadata": {},
     "output_type": "display_data"
    }
   ],
   "source": [
    "fig, ax=plt.subplots(figsize=(5,5))\n",
    "sns.histplot(prey_y, ax=ax)\n",
    "plt.xticks(rotation = 90)\n",
    "plt.show()"
   ]
  },
  {
   "attachments": {},
   "cell_type": "markdown",
   "id": "e68dbb75",
   "metadata": {},
   "source": [
    "## 4. Classification Model"
   ]
  },
  {
   "attachments": {},
   "cell_type": "markdown",
   "id": "5ad9a0d9",
   "metadata": {},
   "source": [
    "### 4.1 Classify Predator common names"
   ]
  },
  {
   "cell_type": "code",
   "execution_count": 28,
   "id": "1f3c6b5f",
   "metadata": {},
   "outputs": [
    {
     "name": "stderr",
     "output_type": "stream",
     "text": [
      "/var/folders/8r/f8xs7ssj5375m_ymty13gnww0000gn/T/ipykernel_34792/116639362.py:3: SettingWithCopyWarning: \n",
      "A value is trying to be set on a copy of a slice from a DataFrame.\n",
      "Try using .loc[row_indexer,col_indexer] = value instead\n",
      "\n",
      "See the caveats in the documentation: https://pandas.pydata.org/pandas-docs/stable/user_guide/indexing.html#returning-a-view-versus-a-copy\n",
      "  predator_x['Predator taxon'] = ordinalencoder.fit_transform(predator_x[['Predator taxon']]).reshape(1,-1).tolist()[0]\n",
      "/var/folders/8r/f8xs7ssj5375m_ymty13gnww0000gn/T/ipykernel_34792/116639362.py:4: SettingWithCopyWarning: \n",
      "A value is trying to be set on a copy of a slice from a DataFrame.\n",
      "Try using .loc[row_indexer,col_indexer] = value instead\n",
      "\n",
      "See the caveats in the documentation: https://pandas.pydata.org/pandas-docs/stable/user_guide/indexing.html#returning-a-view-versus-a-copy\n",
      "  predator_x['Predator lifestage'] = ordinalencoder.fit_transform(predator_x[['Predator lifestage']]).reshape(1,-1).tolist()[0]\n",
      "/var/folders/8r/f8xs7ssj5375m_ymty13gnww0000gn/T/ipykernel_34792/116639362.py:5: SettingWithCopyWarning: \n",
      "A value is trying to be set on a copy of a slice from a DataFrame.\n",
      "Try using .loc[row_indexer,col_indexer] = value instead\n",
      "\n",
      "See the caveats in the documentation: https://pandas.pydata.org/pandas-docs/stable/user_guide/indexing.html#returning-a-view-versus-a-copy\n",
      "  predator_x['Type of feeding interaction'] = ordinalencoder.fit_transform(predator_x[['Type of feeding interaction']]).reshape(1,-1).tolist()[0]\n",
      "/var/folders/8r/f8xs7ssj5375m_ymty13gnww0000gn/T/ipykernel_34792/116639362.py:6: SettingWithCopyWarning: \n",
      "A value is trying to be set on a copy of a slice from a DataFrame.\n",
      "Try using .loc[row_indexer,col_indexer] = value instead\n",
      "\n",
      "See the caveats in the documentation: https://pandas.pydata.org/pandas-docs/stable/user_guide/indexing.html#returning-a-view-versus-a-copy\n",
      "  predator_x['Diet coverage'] = ordinalencoder.fit_transform(predator_x[['Diet coverage']]).reshape(1,-1).tolist()[0]\n",
      "/var/folders/8r/f8xs7ssj5375m_ymty13gnww0000gn/T/ipykernel_34792/116639362.py:7: SettingWithCopyWarning: \n",
      "A value is trying to be set on a copy of a slice from a DataFrame.\n",
      "Try using .loc[row_indexer,col_indexer] = value instead\n",
      "\n",
      "See the caveats in the documentation: https://pandas.pydata.org/pandas-docs/stable/user_guide/indexing.html#returning-a-view-versus-a-copy\n",
      "  predator_x['Geographic location'] = ordinalencoder.fit_transform(predator_x[['Geographic location']]).reshape(1,-1).tolist()[0]\n",
      "/var/folders/8r/f8xs7ssj5375m_ymty13gnww0000gn/T/ipykernel_34792/116639362.py:8: SettingWithCopyWarning: \n",
      "A value is trying to be set on a copy of a slice from a DataFrame.\n",
      "Try using .loc[row_indexer,col_indexer] = value instead\n",
      "\n",
      "See the caveats in the documentation: https://pandas.pydata.org/pandas-docs/stable/user_guide/indexing.html#returning-a-view-versus-a-copy\n",
      "  predator_x['Specific habitat'] = ordinalencoder.fit_transform(predator_x[['Specific habitat']]).reshape(1,-1).tolist()[0]\n"
     ]
    }
   ],
   "source": [
    "# Categorical Feature Encoding \n",
    "ordinalencoder = OrdinalEncoder()\n",
    "predator_x['Predator taxon'] = ordinalencoder.fit_transform(predator_x[['Predator taxon']]).reshape(1,-1).tolist()[0]\n",
    "predator_x['Predator lifestage'] = ordinalencoder.fit_transform(predator_x[['Predator lifestage']]).reshape(1,-1).tolist()[0]\n",
    "predator_x['Type of feeding interaction'] = ordinalencoder.fit_transform(predator_x[['Type of feeding interaction']]).reshape(1,-1).tolist()[0]\n",
    "predator_x['Diet coverage'] = ordinalencoder.fit_transform(predator_x[['Diet coverage']]).reshape(1,-1).tolist()[0]\n",
    "predator_x['Geographic location'] = ordinalencoder.fit_transform(predator_x[['Geographic location']]).reshape(1,-1).tolist()[0]\n",
    "predator_x['Specific habitat'] = ordinalencoder.fit_transform(predator_x[['Specific habitat']]).reshape(1,-1).tolist()[0]"
   ]
  },
  {
   "cell_type": "code",
   "execution_count": 29,
   "id": "92086d39",
   "metadata": {},
   "outputs": [],
   "source": [
    "# Train Test Split\n",
    "X_train_predator, X_test_predator, y_train_predator, y_test_predator = train_test_split(predator_x, \n",
    "                                                                                        predator_y, \n",
    "                                                                                        test_size=0.2, \n",
    "                                                                                        random_state=123)\n",
    "\n",
    "# Scaling\n",
    "scaler = StandardScaler()\n",
    "X_train_predator = scaler.fit_transform(X_train_predator)   \n",
    "X_test_predator = scaler.transform(X_test_predator)   "
   ]
  },
  {
   "attachments": {},
   "cell_type": "markdown",
   "id": "d2f18718",
   "metadata": {},
   "source": [
    "#### 4.1.1 SVC"
   ]
  },
  {
   "cell_type": "code",
   "execution_count": 30,
   "id": "86defea4",
   "metadata": {},
   "outputs": [
    {
     "name": "stdout",
     "output_type": "stream",
     "text": [
      "The train score is: 0.893172165958837\n",
      "The test score is: 0.8919007184846506\n"
     ]
    }
   ],
   "source": [
    "svc = SVC(C=1,gamma='scale')\n",
    "svc.fit(X_train_predator,y_train_predator)\n",
    "print(f\"The train score is:\",svc.score(X_train_predator,y_train_predator))\n",
    "print(f\"The test score is:\",svc.score(X_test_predator,y_test_predator))"
   ]
  },
  {
   "cell_type": "code",
   "execution_count": 31,
   "id": "4dfd2490",
   "metadata": {},
   "outputs": [
    {
     "name": "stdout",
     "output_type": "stream",
     "text": [
      "svc best hyperparams      : {'C': 10, 'gamma': 1, 'kernel': 'poly'}\n",
      "svc best mean cv accuracy : 1.00\n"
     ]
    }
   ],
   "source": [
    "# Grid Search\n",
    "params = {'C': [0.1, 1, 10], 'gamma': [1, 0.1, 0.01],'kernel': ['rbf', 'poly', 'sigmoid']}\n",
    "svc_gscv = GridSearchCV(estimator = SVC(random_state=123), param_grid=params, cv=3, refit=True, n_jobs=-1)\n",
    "svc_gscv.fit(X_train_predator, y_train_predator)\n",
    "print(f'svc best hyperparams      : {svc_gscv.best_params_}')\n",
    "print(f'svc best mean cv accuracy : {svc_gscv.best_score_:.2f}')"
   ]
  },
  {
   "attachments": {},
   "cell_type": "markdown",
   "id": "b448f930",
   "metadata": {},
   "source": [
    "#### 4.1.2 Decision Tree"
   ]
  },
  {
   "cell_type": "code",
   "execution_count": 32,
   "id": "3fa32ebe",
   "metadata": {},
   "outputs": [
    {
     "name": "stdout",
     "output_type": "stream",
     "text": [
      "The train score is: 0.8951323097027115\n",
      "The test score is: 0.8909209666884389\n"
     ]
    }
   ],
   "source": [
    "dt = DecisionTreeClassifier(criterion='gini', max_depth = 5)\n",
    "dt.fit(X_train_predator,y_train_predator)\n",
    "print(f\"The train score is:\",dt.score(X_train_predator,y_train_predator))\n",
    "print(f\"The test score is:\",dt.score(X_test_predator,y_test_predator))"
   ]
  },
  {
   "cell_type": "code",
   "execution_count": 33,
   "id": "99ecb3ba",
   "metadata": {},
   "outputs": [
    {
     "name": "stdout",
     "output_type": "stream",
     "text": [
      "dt best hyperparams      : {'criterion': 'entropy', 'max_depth': 6}\n",
      "dt best mean cv accuracy : 0.95\n"
     ]
    }
   ],
   "source": [
    "# Grid Search\n",
    "params = {'criterion': ['gini', 'entropy'], 'max_depth' : [2,3,4,5,6]}\n",
    "dt_gscv = GridSearchCV(estimator = DecisionTreeClassifier(random_state=123), param_grid=params, cv=3, refit=True, n_jobs=-1)\n",
    "dt_gscv.fit(X_train_predator, y_train_predator)\n",
    "print(f'dt best hyperparams      : {dt_gscv.best_params_}')\n",
    "print(f'dt best mean cv accuracy : {dt_gscv.best_score_:.2f}')"
   ]
  },
  {
   "attachments": {},
   "cell_type": "markdown",
   "id": "e8c5a564",
   "metadata": {},
   "source": [
    "#### 4.1.3 Random Forest"
   ]
  },
  {
   "cell_type": "code",
   "execution_count": 34,
   "id": "e84d3b3b",
   "metadata": {},
   "outputs": [
    {
     "name": "stdout",
     "output_type": "stream",
     "text": [
      "The train score is: 0.9001960143743875\n",
      "The test score is: 0.8990855649902025\n"
     ]
    }
   ],
   "source": [
    "# normal random forest\n",
    "rfc = RandomForestClassifier(n_estimators=50, max_depth=5)\n",
    "rfc.fit(X_train_predator,y_train_predator)\n",
    "print(f\"The train score is:\",rfc.score(X_train_predator,y_train_predator))\n",
    "print(f\"The test score is:\",rfc.score(X_test_predator,y_test_predator))"
   ]
  },
  {
   "cell_type": "code",
   "execution_count": 35,
   "id": "77575dec",
   "metadata": {},
   "outputs": [
    {
     "data": {
      "text/plain": [
       "array([0.9003675 , 0.90281748, 0.89587587, 0.89914251, 0.90645425])"
      ]
     },
     "execution_count": 35,
     "metadata": {},
     "output_type": "execute_result"
    }
   ],
   "source": [
    "# cross validation\n",
    "rfc_cv_scores = cross_val_score(rfc, X_train_predator, y_train_predator, cv=5, n_jobs=-1)\n",
    "rfc_cv_scores"
   ]
  },
  {
   "cell_type": "code",
   "execution_count": 36,
   "id": "04d1f790",
   "metadata": {},
   "outputs": [
    {
     "data": {
      "text/html": [
       "<div>\n",
       "<style scoped>\n",
       "    .dataframe tbody tr th:only-of-type {\n",
       "        vertical-align: middle;\n",
       "    }\n",
       "\n",
       "    .dataframe tbody tr th {\n",
       "        vertical-align: top;\n",
       "    }\n",
       "\n",
       "    .dataframe thead th {\n",
       "        text-align: right;\n",
       "    }\n",
       "</style>\n",
       "<table border=\"1\" class=\"dataframe\">\n",
       "  <thead>\n",
       "    <tr style=\"text-align: right;\">\n",
       "      <th>max_depth</th>\n",
       "      <th>2</th>\n",
       "      <th>4</th>\n",
       "      <th>6</th>\n",
       "      <th>8</th>\n",
       "      <th>10</th>\n",
       "    </tr>\n",
       "  </thead>\n",
       "  <tbody>\n",
       "    <tr>\n",
       "      <th>mean_train_scores</th>\n",
       "      <td>0.72</td>\n",
       "      <td>0.87</td>\n",
       "      <td>0.91</td>\n",
       "      <td>0.97</td>\n",
       "      <td>1.00</td>\n",
       "    </tr>\n",
       "    <tr>\n",
       "      <th>mean_test_scores</th>\n",
       "      <td>0.72</td>\n",
       "      <td>0.87</td>\n",
       "      <td>0.91</td>\n",
       "      <td>0.96</td>\n",
       "      <td>0.99</td>\n",
       "    </tr>\n",
       "  </tbody>\n",
       "</table>\n",
       "</div>"
      ],
      "text/plain": [
       "max_depth            2     4     6     8     10\n",
       "mean_train_scores  0.72  0.87  0.91  0.97  1.00\n",
       "mean_test_scores   0.72  0.87  0.91  0.96  0.99"
      ]
     },
     "execution_count": 36,
     "metadata": {},
     "output_type": "execute_result"
    }
   ],
   "source": [
    "depths = [2,4,6,8,10]\n",
    "train_scores,test_scores = validation_curve(RandomForestClassifier(n_estimators=50), \n",
    "                                            X_train_predator, y_train_predator, \n",
    "                                            param_name='max_depth', param_range=depths, cv=3)\n",
    "mean_train_scores = np.average(train_scores, axis=1)\n",
    "mean_test_scores = np.average(test_scores, axis=1)\n",
    "pd.DataFrame([mean_train_scores.round(2),mean_test_scores.round(2)],\n",
    "             columns=pd.Series(depths,name='max_depth'),\n",
    "             index=['mean_train_scores','mean_test_scores'])\n"
   ]
  },
  {
   "cell_type": "code",
   "execution_count": 37,
   "id": "380cdf08",
   "metadata": {},
   "outputs": [
    {
     "name": "stdout",
     "output_type": "stream",
     "text": [
      "rfc best hyperparams      : {'max_depth': 6, 'n_estimators': 10}\n",
      "rfc best mean cv accuracy : 0.92\n"
     ]
    }
   ],
   "source": [
    "# Grid Search\n",
    "params = {'n_estimators':[10,50,100,150],'max_depth':[2,3,4,5,6]}\n",
    "rfc_gscv = GridSearchCV(estimator=RandomForestClassifier(random_state=123), param_grid=params, cv=3, refit=True, n_jobs=-1)\n",
    "rfc_gscv.fit(X_train_predator, y_train_predator)\n",
    "print(f'rfc best hyperparams      : {rfc_gscv.best_params_}')\n",
    "print(f'rfc best mean cv accuracy : {rfc_gscv.best_score_:.2f}')"
   ]
  },
  {
   "attachments": {},
   "cell_type": "markdown",
   "id": "311f1e4f",
   "metadata": {},
   "source": [
    "#### 4.1.4 Adaboost"
   ]
  },
  {
   "cell_type": "code",
   "execution_count": 38,
   "id": "c16c9e41",
   "metadata": {},
   "outputs": [
    {
     "name": "stdout",
     "output_type": "stream",
     "text": [
      "The train score is: 0.4780300555374061\n",
      "The test score is: 0.48171129980404964\n"
     ]
    }
   ],
   "source": [
    "ada = AdaBoostClassifier(n_estimators=50, learning_rate=1)\n",
    "ada.fit(X_train_predator,y_train_predator)\n",
    "print(f\"The train score is:\",ada.score(X_train_predator,y_train_predator))\n",
    "print(f\"The test score is:\",ada.score(X_test_predator,y_test_predator))"
   ]
  },
  {
   "cell_type": "code",
   "execution_count": 39,
   "id": "42f1a4d7",
   "metadata": {},
   "outputs": [
    {
     "name": "stdout",
     "output_type": "stream",
     "text": [
      "ada best hyperparams      : {'learning_rate': 0.5, 'n_estimators': 50}\n",
      "ada best mean cv accuracy : 0.83\n"
     ]
    }
   ],
   "source": [
    "# Grid Search\n",
    "params = {'n_estimators':[10,50,100,150],'learning_rate':[0.01,0.1,0.5,1]}\n",
    "ada_gscv = GridSearchCV(estimator=AdaBoostClassifier(random_state=123), param_grid=params, cv=3, refit=True, n_jobs=-1)\n",
    "ada_gscv.fit(X_train_predator, y_train_predator)\n",
    "print(f'ada best hyperparams      : {ada_gscv.best_params_}')\n",
    "print(f'ada best mean cv accuracy : {ada_gscv.best_score_:.2f}')"
   ]
  },
  {
   "attachments": {},
   "cell_type": "markdown",
   "id": "6a3d4a22",
   "metadata": {},
   "source": [
    "### 4.2 Classify Prey taxon"
   ]
  },
  {
   "cell_type": "code",
   "execution_count": 40,
   "id": "8191095c",
   "metadata": {},
   "outputs": [
    {
     "name": "stderr",
     "output_type": "stream",
     "text": [
      "/var/folders/8r/f8xs7ssj5375m_ymty13gnww0000gn/T/ipykernel_34792/3909440097.py:2: SettingWithCopyWarning: \n",
      "A value is trying to be set on a copy of a slice from a DataFrame.\n",
      "Try using .loc[row_indexer,col_indexer] = value instead\n",
      "\n",
      "See the caveats in the documentation: https://pandas.pydata.org/pandas-docs/stable/user_guide/indexing.html#returning-a-view-versus-a-copy\n",
      "  prey_x['Geographic location'] = ordinalencoder.fit_transform(prey_x[['Geographic location']]).reshape(1,-1).tolist()[0]\n",
      "/var/folders/8r/f8xs7ssj5375m_ymty13gnww0000gn/T/ipykernel_34792/3909440097.py:3: SettingWithCopyWarning: \n",
      "A value is trying to be set on a copy of a slice from a DataFrame.\n",
      "Try using .loc[row_indexer,col_indexer] = value instead\n",
      "\n",
      "See the caveats in the documentation: https://pandas.pydata.org/pandas-docs/stable/user_guide/indexing.html#returning-a-view-versus-a-copy\n",
      "  prey_x['Specific habitat'] = ordinalencoder.fit_transform(prey_x[['Specific habitat']]).reshape(1,-1).tolist()[0]\n"
     ]
    }
   ],
   "source": [
    "ordinalencoder = OrdinalEncoder()\n",
    "prey_x['Geographic location'] = ordinalencoder.fit_transform(prey_x[['Geographic location']]).reshape(1,-1).tolist()[0]\n",
    "prey_x['Specific habitat'] = ordinalencoder.fit_transform(prey_x[['Specific habitat']]).reshape(1,-1).tolist()[0]"
   ]
  },
  {
   "cell_type": "code",
   "execution_count": 41,
   "id": "1312dc18",
   "metadata": {},
   "outputs": [],
   "source": [
    "from sklearn.model_selection import train_test_split\n",
    "\n",
    "# Train Test Split\n",
    "X_train_prey, X_test_prey, y_train_prey, y_test_prey = train_test_split(prey_x, \n",
    "                                                                        prey_y, \n",
    "                                                                        test_size=0.2, \n",
    "                                                                        random_state=123)\n",
    "\n",
    "# Scaling\n",
    "scaler = StandardScaler()\n",
    "X_train_prey = scaler.fit_transform(X_train_prey)   \n",
    "X_test_prey = scaler.transform(X_test_prey)"
   ]
  },
  {
   "attachments": {},
   "cell_type": "markdown",
   "id": "2050f6bf",
   "metadata": {},
   "source": [
    "#### 4.2.1 SVC"
   ]
  },
  {
   "cell_type": "code",
   "execution_count": 42,
   "id": "2f39f1a7",
   "metadata": {},
   "outputs": [
    {
     "name": "stdout",
     "output_type": "stream",
     "text": [
      "The train score is: 0.8626896650443745\n",
      "The test score is: 0.8605982539001001\n"
     ]
    }
   ],
   "source": [
    "svc = SVC(C=1,gamma='scale')\n",
    "svc.fit(X_train_prey,y_train_prey)\n",
    "print(f\"The train score is:\",svc.score(X_train_prey,y_train_prey))\n",
    "print(f\"The test score is:\",svc.score(X_test_prey,y_test_prey))"
   ]
  },
  {
   "cell_type": "code",
   "execution_count": 43,
   "id": "b764b955",
   "metadata": {},
   "outputs": [
    {
     "name": "stderr",
     "output_type": "stream",
     "text": [
      "/Users/jingyi/opt/anaconda3/envs/MyCodingSpace/lib/python3.9/site-packages/joblib/externals/loky/process_executor.py:702: UserWarning: A worker stopped while some jobs were given to the executor. This can be caused by a too short worker timeout or by a memory leak.\n",
      "  warnings.warn(\n"
     ]
    },
    {
     "ename": "KeyboardInterrupt",
     "evalue": "",
     "output_type": "error",
     "traceback": [
      "\u001b[0;31m---------------------------------------------------------------------------\u001b[0m",
      "\u001b[0;31mKeyboardInterrupt\u001b[0m                         Traceback (most recent call last)",
      "\u001b[1;32m/Users/jingyi/Desktop/PredatorPrey-main/5241_project.ipynb Cell 60\u001b[0m in \u001b[0;36m4\n\u001b[1;32m      <a href='vscode-notebook-cell:/Users/jingyi/Desktop/PredatorPrey-main/5241_project.ipynb#Y141sZmlsZQ%3D%3D?line=1'>2</a>\u001b[0m params \u001b[39m=\u001b[39m {\u001b[39m'\u001b[39m\u001b[39mC\u001b[39m\u001b[39m'\u001b[39m: [\u001b[39m0.1\u001b[39m, \u001b[39m1\u001b[39m, \u001b[39m10\u001b[39m], \u001b[39m'\u001b[39m\u001b[39mgamma\u001b[39m\u001b[39m'\u001b[39m: [\u001b[39m1\u001b[39m, \u001b[39m0.1\u001b[39m],\u001b[39m'\u001b[39m\u001b[39mkernel\u001b[39m\u001b[39m'\u001b[39m: [\u001b[39m'\u001b[39m\u001b[39mrbf\u001b[39m\u001b[39m'\u001b[39m, \u001b[39m'\u001b[39m\u001b[39mpoly\u001b[39m\u001b[39m'\u001b[39m]}\n\u001b[1;32m      <a href='vscode-notebook-cell:/Users/jingyi/Desktop/PredatorPrey-main/5241_project.ipynb#Y141sZmlsZQ%3D%3D?line=2'>3</a>\u001b[0m svc_gscv \u001b[39m=\u001b[39m GridSearchCV(estimator \u001b[39m=\u001b[39m SVC(random_state\u001b[39m=\u001b[39m\u001b[39m123\u001b[39m), param_grid\u001b[39m=\u001b[39mparams, cv\u001b[39m=\u001b[39m\u001b[39m3\u001b[39m, refit\u001b[39m=\u001b[39m\u001b[39mTrue\u001b[39;00m, n_jobs\u001b[39m=\u001b[39m\u001b[39m-\u001b[39m\u001b[39m1\u001b[39m)\n\u001b[0;32m----> <a href='vscode-notebook-cell:/Users/jingyi/Desktop/PredatorPrey-main/5241_project.ipynb#Y141sZmlsZQ%3D%3D?line=3'>4</a>\u001b[0m svc_gscv\u001b[39m.\u001b[39mfit(X_train_prey, y_train_prey)\n\u001b[1;32m      <a href='vscode-notebook-cell:/Users/jingyi/Desktop/PredatorPrey-main/5241_project.ipynb#Y141sZmlsZQ%3D%3D?line=4'>5</a>\u001b[0m \u001b[39mprint\u001b[39m(\u001b[39mf\u001b[39m\u001b[39m'\u001b[39m\u001b[39msvc best hyperparams      : \u001b[39m\u001b[39m{\u001b[39;00msvc_gscv\u001b[39m.\u001b[39mbest_params_\u001b[39m}\u001b[39;00m\u001b[39m'\u001b[39m)\n\u001b[1;32m      <a href='vscode-notebook-cell:/Users/jingyi/Desktop/PredatorPrey-main/5241_project.ipynb#Y141sZmlsZQ%3D%3D?line=5'>6</a>\u001b[0m \u001b[39mprint\u001b[39m(\u001b[39mf\u001b[39m\u001b[39m'\u001b[39m\u001b[39msvc best mean cv accuracy : \u001b[39m\u001b[39m{\u001b[39;00msvc_gscv\u001b[39m.\u001b[39mbest_score_\u001b[39m:\u001b[39;00m\u001b[39m.2f\u001b[39m\u001b[39m}\u001b[39;00m\u001b[39m'\u001b[39m)\n",
      "File \u001b[0;32m~/opt/anaconda3/envs/MyCodingSpace/lib/python3.9/site-packages/sklearn/model_selection/_search.py:875\u001b[0m, in \u001b[0;36mBaseSearchCV.fit\u001b[0;34m(self, X, y, groups, **fit_params)\u001b[0m\n\u001b[1;32m    869\u001b[0m     results \u001b[39m=\u001b[39m \u001b[39mself\u001b[39m\u001b[39m.\u001b[39m_format_results(\n\u001b[1;32m    870\u001b[0m         all_candidate_params, n_splits, all_out, all_more_results\n\u001b[1;32m    871\u001b[0m     )\n\u001b[1;32m    873\u001b[0m     \u001b[39mreturn\u001b[39;00m results\n\u001b[0;32m--> 875\u001b[0m \u001b[39mself\u001b[39;49m\u001b[39m.\u001b[39;49m_run_search(evaluate_candidates)\n\u001b[1;32m    877\u001b[0m \u001b[39m# multimetric is determined here because in the case of a callable\u001b[39;00m\n\u001b[1;32m    878\u001b[0m \u001b[39m# self.scoring the return type is only known after calling\u001b[39;00m\n\u001b[1;32m    879\u001b[0m first_test_score \u001b[39m=\u001b[39m all_out[\u001b[39m0\u001b[39m][\u001b[39m\"\u001b[39m\u001b[39mtest_scores\u001b[39m\u001b[39m\"\u001b[39m]\n",
      "File \u001b[0;32m~/opt/anaconda3/envs/MyCodingSpace/lib/python3.9/site-packages/sklearn/model_selection/_search.py:1375\u001b[0m, in \u001b[0;36mGridSearchCV._run_search\u001b[0;34m(self, evaluate_candidates)\u001b[0m\n\u001b[1;32m   1373\u001b[0m \u001b[39mdef\u001b[39;00m \u001b[39m_run_search\u001b[39m(\u001b[39mself\u001b[39m, evaluate_candidates):\n\u001b[1;32m   1374\u001b[0m     \u001b[39m\"\"\"Search all candidates in param_grid\"\"\"\u001b[39;00m\n\u001b[0;32m-> 1375\u001b[0m     evaluate_candidates(ParameterGrid(\u001b[39mself\u001b[39;49m\u001b[39m.\u001b[39;49mparam_grid))\n",
      "File \u001b[0;32m~/opt/anaconda3/envs/MyCodingSpace/lib/python3.9/site-packages/sklearn/model_selection/_search.py:822\u001b[0m, in \u001b[0;36mBaseSearchCV.fit.<locals>.evaluate_candidates\u001b[0;34m(candidate_params, cv, more_results)\u001b[0m\n\u001b[1;32m    814\u001b[0m \u001b[39mif\u001b[39;00m \u001b[39mself\u001b[39m\u001b[39m.\u001b[39mverbose \u001b[39m>\u001b[39m \u001b[39m0\u001b[39m:\n\u001b[1;32m    815\u001b[0m     \u001b[39mprint\u001b[39m(\n\u001b[1;32m    816\u001b[0m         \u001b[39m\"\u001b[39m\u001b[39mFitting \u001b[39m\u001b[39m{0}\u001b[39;00m\u001b[39m folds for each of \u001b[39m\u001b[39m{1}\u001b[39;00m\u001b[39m candidates,\u001b[39m\u001b[39m\"\u001b[39m\n\u001b[1;32m    817\u001b[0m         \u001b[39m\"\u001b[39m\u001b[39m totalling \u001b[39m\u001b[39m{2}\u001b[39;00m\u001b[39m fits\u001b[39m\u001b[39m\"\u001b[39m\u001b[39m.\u001b[39mformat(\n\u001b[1;32m    818\u001b[0m             n_splits, n_candidates, n_candidates \u001b[39m*\u001b[39m n_splits\n\u001b[1;32m    819\u001b[0m         )\n\u001b[1;32m    820\u001b[0m     )\n\u001b[0;32m--> 822\u001b[0m out \u001b[39m=\u001b[39m parallel(\n\u001b[1;32m    823\u001b[0m     delayed(_fit_and_score)(\n\u001b[1;32m    824\u001b[0m         clone(base_estimator),\n\u001b[1;32m    825\u001b[0m         X,\n\u001b[1;32m    826\u001b[0m         y,\n\u001b[1;32m    827\u001b[0m         train\u001b[39m=\u001b[39;49mtrain,\n\u001b[1;32m    828\u001b[0m         test\u001b[39m=\u001b[39;49mtest,\n\u001b[1;32m    829\u001b[0m         parameters\u001b[39m=\u001b[39;49mparameters,\n\u001b[1;32m    830\u001b[0m         split_progress\u001b[39m=\u001b[39;49m(split_idx, n_splits),\n\u001b[1;32m    831\u001b[0m         candidate_progress\u001b[39m=\u001b[39;49m(cand_idx, n_candidates),\n\u001b[1;32m    832\u001b[0m         \u001b[39m*\u001b[39;49m\u001b[39m*\u001b[39;49mfit_and_score_kwargs,\n\u001b[1;32m    833\u001b[0m     )\n\u001b[1;32m    834\u001b[0m     \u001b[39mfor\u001b[39;49;00m (cand_idx, parameters), (split_idx, (train, test)) \u001b[39min\u001b[39;49;00m product(\n\u001b[1;32m    835\u001b[0m         \u001b[39menumerate\u001b[39;49m(candidate_params), \u001b[39menumerate\u001b[39;49m(cv\u001b[39m.\u001b[39;49msplit(X, y, groups))\n\u001b[1;32m    836\u001b[0m     )\n\u001b[1;32m    837\u001b[0m )\n\u001b[1;32m    839\u001b[0m \u001b[39mif\u001b[39;00m \u001b[39mlen\u001b[39m(out) \u001b[39m<\u001b[39m \u001b[39m1\u001b[39m:\n\u001b[1;32m    840\u001b[0m     \u001b[39mraise\u001b[39;00m \u001b[39mValueError\u001b[39;00m(\n\u001b[1;32m    841\u001b[0m         \u001b[39m\"\u001b[39m\u001b[39mNo fits were performed. \u001b[39m\u001b[39m\"\u001b[39m\n\u001b[1;32m    842\u001b[0m         \u001b[39m\"\u001b[39m\u001b[39mWas the CV iterator empty? \u001b[39m\u001b[39m\"\u001b[39m\n\u001b[1;32m    843\u001b[0m         \u001b[39m\"\u001b[39m\u001b[39mWere there no candidates?\u001b[39m\u001b[39m\"\u001b[39m\n\u001b[1;32m    844\u001b[0m     )\n",
      "File \u001b[0;32m~/opt/anaconda3/envs/MyCodingSpace/lib/python3.9/site-packages/joblib/parallel.py:1056\u001b[0m, in \u001b[0;36mParallel.__call__\u001b[0;34m(self, iterable)\u001b[0m\n\u001b[1;32m   1053\u001b[0m     \u001b[39mself\u001b[39m\u001b[39m.\u001b[39m_iterating \u001b[39m=\u001b[39m \u001b[39mFalse\u001b[39;00m\n\u001b[1;32m   1055\u001b[0m \u001b[39mwith\u001b[39;00m \u001b[39mself\u001b[39m\u001b[39m.\u001b[39m_backend\u001b[39m.\u001b[39mretrieval_context():\n\u001b[0;32m-> 1056\u001b[0m     \u001b[39mself\u001b[39;49m\u001b[39m.\u001b[39;49mretrieve()\n\u001b[1;32m   1057\u001b[0m \u001b[39m# Make sure that we get a last message telling us we are done\u001b[39;00m\n\u001b[1;32m   1058\u001b[0m elapsed_time \u001b[39m=\u001b[39m time\u001b[39m.\u001b[39mtime() \u001b[39m-\u001b[39m \u001b[39mself\u001b[39m\u001b[39m.\u001b[39m_start_time\n",
      "File \u001b[0;32m~/opt/anaconda3/envs/MyCodingSpace/lib/python3.9/site-packages/joblib/parallel.py:935\u001b[0m, in \u001b[0;36mParallel.retrieve\u001b[0;34m(self)\u001b[0m\n\u001b[1;32m    933\u001b[0m \u001b[39mtry\u001b[39;00m:\n\u001b[1;32m    934\u001b[0m     \u001b[39mif\u001b[39;00m \u001b[39mgetattr\u001b[39m(\u001b[39mself\u001b[39m\u001b[39m.\u001b[39m_backend, \u001b[39m'\u001b[39m\u001b[39msupports_timeout\u001b[39m\u001b[39m'\u001b[39m, \u001b[39mFalse\u001b[39;00m):\n\u001b[0;32m--> 935\u001b[0m         \u001b[39mself\u001b[39m\u001b[39m.\u001b[39m_output\u001b[39m.\u001b[39mextend(job\u001b[39m.\u001b[39;49mget(timeout\u001b[39m=\u001b[39;49m\u001b[39mself\u001b[39;49m\u001b[39m.\u001b[39;49mtimeout))\n\u001b[1;32m    936\u001b[0m     \u001b[39melse\u001b[39;00m:\n\u001b[1;32m    937\u001b[0m         \u001b[39mself\u001b[39m\u001b[39m.\u001b[39m_output\u001b[39m.\u001b[39mextend(job\u001b[39m.\u001b[39mget())\n",
      "File \u001b[0;32m~/opt/anaconda3/envs/MyCodingSpace/lib/python3.9/site-packages/joblib/_parallel_backends.py:542\u001b[0m, in \u001b[0;36mLokyBackend.wrap_future_result\u001b[0;34m(future, timeout)\u001b[0m\n\u001b[1;32m    539\u001b[0m \u001b[39m\"\"\"Wrapper for Future.result to implement the same behaviour as\u001b[39;00m\n\u001b[1;32m    540\u001b[0m \u001b[39mAsyncResults.get from multiprocessing.\"\"\"\u001b[39;00m\n\u001b[1;32m    541\u001b[0m \u001b[39mtry\u001b[39;00m:\n\u001b[0;32m--> 542\u001b[0m     \u001b[39mreturn\u001b[39;00m future\u001b[39m.\u001b[39;49mresult(timeout\u001b[39m=\u001b[39;49mtimeout)\n\u001b[1;32m    543\u001b[0m \u001b[39mexcept\u001b[39;00m CfTimeoutError \u001b[39mas\u001b[39;00m e:\n\u001b[1;32m    544\u001b[0m     \u001b[39mraise\u001b[39;00m \u001b[39mTimeoutError\u001b[39;00m \u001b[39mfrom\u001b[39;00m \u001b[39me\u001b[39;00m\n",
      "File \u001b[0;32m~/opt/anaconda3/envs/MyCodingSpace/lib/python3.9/concurrent/futures/_base.py:441\u001b[0m, in \u001b[0;36mFuture.result\u001b[0;34m(self, timeout)\u001b[0m\n\u001b[1;32m    438\u001b[0m \u001b[39melif\u001b[39;00m \u001b[39mself\u001b[39m\u001b[39m.\u001b[39m_state \u001b[39m==\u001b[39m FINISHED:\n\u001b[1;32m    439\u001b[0m     \u001b[39mreturn\u001b[39;00m \u001b[39mself\u001b[39m\u001b[39m.\u001b[39m__get_result()\n\u001b[0;32m--> 441\u001b[0m \u001b[39mself\u001b[39;49m\u001b[39m.\u001b[39;49m_condition\u001b[39m.\u001b[39;49mwait(timeout)\n\u001b[1;32m    443\u001b[0m \u001b[39mif\u001b[39;00m \u001b[39mself\u001b[39m\u001b[39m.\u001b[39m_state \u001b[39min\u001b[39;00m [CANCELLED, CANCELLED_AND_NOTIFIED]:\n\u001b[1;32m    444\u001b[0m     \u001b[39mraise\u001b[39;00m CancelledError()\n",
      "File \u001b[0;32m~/opt/anaconda3/envs/MyCodingSpace/lib/python3.9/threading.py:312\u001b[0m, in \u001b[0;36mCondition.wait\u001b[0;34m(self, timeout)\u001b[0m\n\u001b[1;32m    310\u001b[0m \u001b[39mtry\u001b[39;00m:    \u001b[39m# restore state no matter what (e.g., KeyboardInterrupt)\u001b[39;00m\n\u001b[1;32m    311\u001b[0m     \u001b[39mif\u001b[39;00m timeout \u001b[39mis\u001b[39;00m \u001b[39mNone\u001b[39;00m:\n\u001b[0;32m--> 312\u001b[0m         waiter\u001b[39m.\u001b[39;49macquire()\n\u001b[1;32m    313\u001b[0m         gotit \u001b[39m=\u001b[39m \u001b[39mTrue\u001b[39;00m\n\u001b[1;32m    314\u001b[0m     \u001b[39melse\u001b[39;00m:\n",
      "\u001b[0;31mKeyboardInterrupt\u001b[0m: "
     ]
    }
   ],
   "source": [
    "# Grid Search - so slow\n",
    "params = {'C': [0.1, 1, 10], 'gamma': [1, 0.1],'kernel': ['rbf', 'poly']}\n",
    "svc_gscv = GridSearchCV(estimator = SVC(random_state=123), param_grid=params, cv=3, refit=True, n_jobs=-1)\n",
    "svc_gscv.fit(X_train_prey, y_train_prey)\n",
    "print(f'svc best hyperparams      : {svc_gscv.best_params_}')\n",
    "print(f'svc best mean cv accuracy : {svc_gscv.best_score_:.2f}')"
   ]
  },
  {
   "attachments": {},
   "cell_type": "markdown",
   "id": "5848f7fc",
   "metadata": {},
   "source": [
    "#### 4.2.2 Decision Tree"
   ]
  },
  {
   "cell_type": "code",
   "execution_count": 44,
   "id": "da1bffa5",
   "metadata": {},
   "outputs": [
    {
     "name": "stdout",
     "output_type": "stream",
     "text": [
      "The train score is: 0.8502004008016032\n",
      "The test score is: 0.8512952626305997\n"
     ]
    }
   ],
   "source": [
    "dt = DecisionTreeClassifier(criterion='gini', max_depth = 5)\n",
    "dt.fit(X_train_prey,y_train_prey)\n",
    "print(f\"The train score is:\",dt.score(X_train_prey,y_train_prey))\n",
    "print(f\"The test score is:\",dt.score(X_test_prey,y_test_prey))"
   ]
  },
  {
   "cell_type": "code",
   "execution_count": 45,
   "id": "60ed8813",
   "metadata": {},
   "outputs": [
    {
     "name": "stdout",
     "output_type": "stream",
     "text": [
      "decision tree best hyperparams      : {'criterion': 'gini', 'max_depth': 6}\n",
      "decision tree best mean cv accuracy : 0.90\n"
     ]
    }
   ],
   "source": [
    "# Grid Search\n",
    "params = {'criterion': ['gini', 'entropy'], 'max_depth' : [2,3,4,5,6]}\n",
    "dt_gscv = GridSearchCV(estimator = DecisionTreeClassifier(random_state=123), param_grid=params, cv=3, refit=True, n_jobs=-1)\n",
    "dt_gscv.fit(X_train_prey, y_train_prey)\n",
    "print(f'decision tree best hyperparams      : {dt_gscv.best_params_}')\n",
    "print(f'decision tree best mean cv accuracy : {dt_gscv.best_score_:.2f}')"
   ]
  },
  {
   "attachments": {},
   "cell_type": "markdown",
   "id": "3b2d9be4",
   "metadata": {},
   "source": [
    "#### 4.2.3 Random Forest"
   ]
  },
  {
   "cell_type": "code",
   "execution_count": 46,
   "id": "d16b8d16",
   "metadata": {},
   "outputs": [
    {
     "name": "stdout",
     "output_type": "stream",
     "text": [
      "The train score is: 0.8643358144861151\n",
      "The test score is: 0.8648919421783312\n"
     ]
    }
   ],
   "source": [
    "# normal random forest\n",
    "rfc = RandomForestClassifier(n_estimators=50, max_depth=5)\n",
    "rfc.fit(X_train_prey,y_train_prey)\n",
    "print(f\"The train score is:\",rfc.score(X_train_prey,y_train_prey))\n",
    "print(f\"The test score is:\",rfc.score(X_test_prey,y_test_prey))"
   ]
  },
  {
   "cell_type": "code",
   "execution_count": 47,
   "id": "ac7a9f3b",
   "metadata": {},
   "outputs": [
    {
     "data": {
      "text/plain": [
       "array([0.86276615, 0.85399893, 0.85256754, 0.8459474 , 0.84037223])"
      ]
     },
     "execution_count": 47,
     "metadata": {},
     "output_type": "execute_result"
    }
   ],
   "source": [
    "# cross validation\n",
    "rfc_cv_scores = cross_val_score(rfc, X_train_prey, y_train_prey, cv=5, n_jobs=-1)\n",
    "rfc_cv_scores"
   ]
  },
  {
   "cell_type": "code",
   "execution_count": 48,
   "id": "fe39efe6",
   "metadata": {},
   "outputs": [
    {
     "data": {
      "text/html": [
       "<div>\n",
       "<style scoped>\n",
       "    .dataframe tbody tr th:only-of-type {\n",
       "        vertical-align: middle;\n",
       "    }\n",
       "\n",
       "    .dataframe tbody tr th {\n",
       "        vertical-align: top;\n",
       "    }\n",
       "\n",
       "    .dataframe thead th {\n",
       "        text-align: right;\n",
       "    }\n",
       "</style>\n",
       "<table border=\"1\" class=\"dataframe\">\n",
       "  <thead>\n",
       "    <tr style=\"text-align: right;\">\n",
       "      <th>max_depth</th>\n",
       "      <th>2</th>\n",
       "      <th>4</th>\n",
       "      <th>6</th>\n",
       "      <th>8</th>\n",
       "      <th>10</th>\n",
       "    </tr>\n",
       "  </thead>\n",
       "  <tbody>\n",
       "    <tr>\n",
       "      <th>mean_train_scores</th>\n",
       "      <td>0.77</td>\n",
       "      <td>0.83</td>\n",
       "      <td>0.87</td>\n",
       "      <td>0.92</td>\n",
       "      <td>0.97</td>\n",
       "    </tr>\n",
       "    <tr>\n",
       "      <th>mean_test_scores</th>\n",
       "      <td>0.77</td>\n",
       "      <td>0.83</td>\n",
       "      <td>0.87</td>\n",
       "      <td>0.92</td>\n",
       "      <td>0.97</td>\n",
       "    </tr>\n",
       "  </tbody>\n",
       "</table>\n",
       "</div>"
      ],
      "text/plain": [
       "max_depth            2     4     6     8     10\n",
       "mean_train_scores  0.77  0.83  0.87  0.92  0.97\n",
       "mean_test_scores   0.77  0.83  0.87  0.92  0.97"
      ]
     },
     "execution_count": 48,
     "metadata": {},
     "output_type": "execute_result"
    }
   ],
   "source": [
    "depths = [2,4,6,8,10]\n",
    "train_scores,test_scores = validation_curve(RandomForestClassifier(n_estimators=50), \n",
    "                                            X_train_prey, y_train_prey, \n",
    "                                            param_name='max_depth', param_range=depths, cv=3)\n",
    "mean_train_scores = np.average(train_scores, axis=1)\n",
    "mean_test_scores = np.average(test_scores, axis=1)\n",
    "pd.DataFrame([mean_train_scores.round(2),mean_test_scores.round(2)],\n",
    "             columns=pd.Series(depths,name='max_depth'),\n",
    "             index=['mean_train_scores','mean_test_scores'])"
   ]
  },
  {
   "cell_type": "code",
   "execution_count": 49,
   "id": "29b2dd31",
   "metadata": {},
   "outputs": [
    {
     "name": "stdout",
     "output_type": "stream",
     "text": [
      "random forest best hyperparams      : {'max_depth': 6, 'n_estimators': 10}\n",
      "random forest best mean cv accuracy : 0.88\n"
     ]
    }
   ],
   "source": [
    "# Grid Search\n",
    "params = {'n_estimators':[10,50,100,150],'max_depth':[2,3,4,5,6]}\n",
    "rfc_gscv = GridSearchCV(estimator=RandomForestClassifier(random_state=123), param_grid=params, cv=3, refit=True, n_jobs=-1)\n",
    "rfc_gscv.fit(X_train_prey, y_train_prey)\n",
    "print(f'random forest best hyperparams      : {rfc_gscv.best_params_}')\n",
    "print(f'random forest best mean cv accuracy : {rfc_gscv.best_score_:.2f}')"
   ]
  },
  {
   "attachments": {},
   "cell_type": "markdown",
   "id": "279d91bc",
   "metadata": {},
   "source": [
    "#### 4.2.4 Adaboost"
   ]
  },
  {
   "cell_type": "code",
   "execution_count": 50,
   "id": "1ae196b3",
   "metadata": {},
   "outputs": [
    {
     "name": "stdout",
     "output_type": "stream",
     "text": [
      "The train score is: 0.802175780131692\n",
      "The test score is: 0.8043509374552741\n"
     ]
    }
   ],
   "source": [
    "ada = AdaBoostClassifier(n_estimators=50, learning_rate=1)\n",
    "ada.fit(X_train_prey,y_train_prey)\n",
    "print(f\"The train score is:\",ada.score(X_train_prey,y_train_prey))\n",
    "print(f\"The test score is:\",ada.score(X_test_prey,y_test_prey))"
   ]
  },
  {
   "cell_type": "code",
   "execution_count": 51,
   "id": "a81209a0",
   "metadata": {},
   "outputs": [
    {
     "name": "stdout",
     "output_type": "stream",
     "text": [
      "ada best hyperparams      : {'learning_rate': 1, 'n_estimators': 10}\n",
      "ada best mean cv accuracy : 0.80\n"
     ]
    }
   ],
   "source": [
    "# Grid Search\n",
    "params = {'n_estimators':[10,50,100,150],'learning_rate':[0.01,0.1,0.5,1]}\n",
    "ada_gscv = GridSearchCV(estimator=AdaBoostClassifier(random_state=123), param_grid=params, cv=3, refit=True, n_jobs=-1)\n",
    "ada_gscv.fit(X_train_prey, y_train_prey)\n",
    "print(f'ada best hyperparams      : {ada_gscv.best_params_}')\n",
    "print(f'ada best mean cv accuracy : {ada_gscv.best_score_:.2f}')"
   ]
  },
  {
   "attachments": {},
   "cell_type": "markdown",
   "id": "14fd90df",
   "metadata": {},
   "source": [
    "## 5. Regression Model"
   ]
  },
  {
   "cell_type": "code",
   "execution_count": 52,
   "id": "b4ab043d",
   "metadata": {},
   "outputs": [],
   "source": [
    "reg_y_length = prey_x['Prey length']\n",
    "reg_y_mass = prey_x['Prey mass']\n",
    "reg_x = df_predator[['Predator taxon','Predator lifestage', 'Type of feeding interaction','Predator length',\n",
    "                    'Diet coverage','Geographic location','Depth','Mean annual temp', 'Mean PP', 'Specific habitat']]"
   ]
  },
  {
   "cell_type": "code",
   "execution_count": 53,
   "id": "09d87a31",
   "metadata": {},
   "outputs": [
    {
     "name": "stderr",
     "output_type": "stream",
     "text": [
      "/var/folders/8r/f8xs7ssj5375m_ymty13gnww0000gn/T/ipykernel_34792/851844812.py:3: SettingWithCopyWarning: \n",
      "A value is trying to be set on a copy of a slice from a DataFrame.\n",
      "Try using .loc[row_indexer,col_indexer] = value instead\n",
      "\n",
      "See the caveats in the documentation: https://pandas.pydata.org/pandas-docs/stable/user_guide/indexing.html#returning-a-view-versus-a-copy\n",
      "  reg_x['Predator taxon'] = ordinalencoder.fit_transform(reg_x[['Predator taxon']]).reshape(1,-1).tolist()[0]\n",
      "/var/folders/8r/f8xs7ssj5375m_ymty13gnww0000gn/T/ipykernel_34792/851844812.py:4: SettingWithCopyWarning: \n",
      "A value is trying to be set on a copy of a slice from a DataFrame.\n",
      "Try using .loc[row_indexer,col_indexer] = value instead\n",
      "\n",
      "See the caveats in the documentation: https://pandas.pydata.org/pandas-docs/stable/user_guide/indexing.html#returning-a-view-versus-a-copy\n",
      "  reg_x['Predator lifestage'] = ordinalencoder.fit_transform(reg_x[['Predator lifestage']]).reshape(1,-1).tolist()[0]\n",
      "/var/folders/8r/f8xs7ssj5375m_ymty13gnww0000gn/T/ipykernel_34792/851844812.py:5: SettingWithCopyWarning: \n",
      "A value is trying to be set on a copy of a slice from a DataFrame.\n",
      "Try using .loc[row_indexer,col_indexer] = value instead\n",
      "\n",
      "See the caveats in the documentation: https://pandas.pydata.org/pandas-docs/stable/user_guide/indexing.html#returning-a-view-versus-a-copy\n",
      "  reg_x['Type of feeding interaction'] = ordinalencoder.fit_transform(reg_x[['Type of feeding interaction']]).reshape(1,-1).tolist()[0]\n",
      "/var/folders/8r/f8xs7ssj5375m_ymty13gnww0000gn/T/ipykernel_34792/851844812.py:6: SettingWithCopyWarning: \n",
      "A value is trying to be set on a copy of a slice from a DataFrame.\n",
      "Try using .loc[row_indexer,col_indexer] = value instead\n",
      "\n",
      "See the caveats in the documentation: https://pandas.pydata.org/pandas-docs/stable/user_guide/indexing.html#returning-a-view-versus-a-copy\n",
      "  reg_x['Diet coverage'] = ordinalencoder.fit_transform(reg_x[['Diet coverage']]).reshape(1,-1).tolist()[0]\n",
      "/var/folders/8r/f8xs7ssj5375m_ymty13gnww0000gn/T/ipykernel_34792/851844812.py:7: SettingWithCopyWarning: \n",
      "A value is trying to be set on a copy of a slice from a DataFrame.\n",
      "Try using .loc[row_indexer,col_indexer] = value instead\n",
      "\n",
      "See the caveats in the documentation: https://pandas.pydata.org/pandas-docs/stable/user_guide/indexing.html#returning-a-view-versus-a-copy\n",
      "  reg_x['Geographic location'] = ordinalencoder.fit_transform(reg_x[['Geographic location']]).reshape(1,-1).tolist()[0]\n",
      "/var/folders/8r/f8xs7ssj5375m_ymty13gnww0000gn/T/ipykernel_34792/851844812.py:8: SettingWithCopyWarning: \n",
      "A value is trying to be set on a copy of a slice from a DataFrame.\n",
      "Try using .loc[row_indexer,col_indexer] = value instead\n",
      "\n",
      "See the caveats in the documentation: https://pandas.pydata.org/pandas-docs/stable/user_guide/indexing.html#returning-a-view-versus-a-copy\n",
      "  reg_x['Specific habitat'] = ordinalencoder.fit_transform(reg_x[['Specific habitat']]).reshape(1,-1).tolist()[0]\n"
     ]
    }
   ],
   "source": [
    "# Categorical Feature Encoding \n",
    "ordinalencoder = OrdinalEncoder()\n",
    "reg_x['Predator taxon'] = ordinalencoder.fit_transform(reg_x[['Predator taxon']]).reshape(1,-1).tolist()[0]\n",
    "reg_x['Predator lifestage'] = ordinalencoder.fit_transform(reg_x[['Predator lifestage']]).reshape(1,-1).tolist()[0]\n",
    "reg_x['Type of feeding interaction'] = ordinalencoder.fit_transform(reg_x[['Type of feeding interaction']]).reshape(1,-1).tolist()[0]\n",
    "reg_x['Diet coverage'] = ordinalencoder.fit_transform(reg_x[['Diet coverage']]).reshape(1,-1).tolist()[0]\n",
    "reg_x['Geographic location'] = ordinalencoder.fit_transform(reg_x[['Geographic location']]).reshape(1,-1).tolist()[0]\n",
    "reg_x['Specific habitat'] = ordinalencoder.fit_transform(reg_x[['Specific habitat']]).reshape(1,-1).tolist()[0]"
   ]
  },
  {
   "cell_type": "code",
   "execution_count": 54,
   "id": "a87db2fc",
   "metadata": {},
   "outputs": [],
   "source": [
    "# Train Test Split\n",
    "X_train_len, X_test_len, y_train_len, y_test_len = train_test_split(reg_x, \n",
    "                                                                    reg_y_length, \n",
    "                                                                    test_size=0.2, \n",
    "                                                                    random_state=123)\n",
    "\n",
    "# Scaling\n",
    "scaler = StandardScaler()\n",
    "X_train_len = scaler.fit_transform(X_train_len)   \n",
    "X_test_len = scaler.transform(X_test_len)  "
   ]
  },
  {
   "attachments": {},
   "cell_type": "markdown",
   "id": "51a5b2d1",
   "metadata": {},
   "source": [
    "### 5.1 Linear Regression "
   ]
  },
  {
   "cell_type": "code",
   "execution_count": 55,
   "id": "20855f94",
   "metadata": {},
   "outputs": [
    {
     "name": "stdout",
     "output_type": "stream",
     "text": [
      "The train score: 0.37261877381179653\n",
      "The test score: 0.3881022975638253\n"
     ]
    }
   ],
   "source": [
    "reg = LinearRegression()\n",
    "reg.fit(X_train_len,y_train_len)\n",
    "print(f\"The train score:\", reg.score(X_train_len,y_train_len))\n",
    "print(f\"The test score:\", reg.score(X_test_len,y_test_len))"
   ]
  },
  {
   "attachments": {},
   "cell_type": "markdown",
   "id": "d4339668",
   "metadata": {},
   "source": [
    "### 5.2 Ridge Regression"
   ]
  },
  {
   "cell_type": "code",
   "execution_count": 56,
   "id": "4030e550",
   "metadata": {},
   "outputs": [
    {
     "name": "stdout",
     "output_type": "stream",
     "text": [
      "The train score: 0.3726187551827931\n",
      "The test score: 0.38810724775791183\n"
     ]
    }
   ],
   "source": [
    "ridge = Ridge(alpha=1)\n",
    "ridge.fit(X_train_len,y_train_len)\n",
    "print(f\"The train score:\", ridge.score(X_train_len,y_train_len))\n",
    "print(f\"The test score:\", ridge.score(X_test_len,y_test_len))"
   ]
  },
  {
   "attachments": {},
   "cell_type": "markdown",
   "id": "830975f5",
   "metadata": {},
   "source": [
    "### 5.3 Lasso Regression"
   ]
  },
  {
   "cell_type": "code",
   "execution_count": 57,
   "id": "16a5de1f",
   "metadata": {},
   "outputs": [
    {
     "name": "stdout",
     "output_type": "stream",
     "text": [
      "The train score: 0.30336127055350215\n",
      "The test score: 0.32002568510105356\n"
     ]
    }
   ],
   "source": [
    "lasso = Lasso(alpha=1)\n",
    "lasso.fit(X_train_len,y_train_len)\n",
    "print(f\"The train score:\", lasso.score(X_train_len,y_train_len))\n",
    "print(f\"The test score:\", lasso.score(X_test_len,y_test_len))"
   ]
  },
  {
   "attachments": {},
   "cell_type": "markdown",
   "id": "f3bce289",
   "metadata": {},
   "source": [
    "### 5.4 SVR"
   ]
  },
  {
   "cell_type": "code",
   "execution_count": 58,
   "id": "68caa06c",
   "metadata": {},
   "outputs": [
    {
     "name": "stdout",
     "output_type": "stream",
     "text": [
      "The train score: 0.41752203592981574\n",
      "The test score: 0.4323681022367857\n"
     ]
    }
   ],
   "source": [
    "svr = SVR(gamma='scale')\n",
    "svr.fit(X_train_len,y_train_len)\n",
    "print(f\"The train score:\", svr.score(X_train_len,y_train_len))\n",
    "print(f\"The test score:\", svr.score(X_test_len,y_test_len))"
   ]
  },
  {
   "attachments": {},
   "cell_type": "markdown",
   "id": "9b3e68ce",
   "metadata": {},
   "source": [
    "### 5.5 Decision Tree Regression"
   ]
  },
  {
   "cell_type": "code",
   "execution_count": 59,
   "id": "8de5aa09",
   "metadata": {},
   "outputs": [
    {
     "name": "stdout",
     "output_type": "stream",
     "text": [
      "The train score: 0.5329840498198524\n",
      "The test score: 0.5090010582919845\n"
     ]
    }
   ],
   "source": [
    "dtr = DecisionTreeRegressor(max_depth=5)\n",
    "dtr.fit(X_train_len,y_train_len)\n",
    "print(f\"The train score:\", dtr.score(X_train_len,y_train_len))\n",
    "print(f\"The test score:\", dtr.score(X_test_len,y_test_len))"
   ]
  },
  {
   "attachments": {},
   "cell_type": "markdown",
   "id": "159ac5a3",
   "metadata": {},
   "source": [
    "### 5.6 Adaboost Regression"
   ]
  },
  {
   "cell_type": "code",
   "execution_count": 60,
   "id": "36b6f199",
   "metadata": {},
   "outputs": [
    {
     "name": "stdout",
     "output_type": "stream",
     "text": [
      "The train score: 0.31568201887089764\n",
      "The test score: 0.3081297416091119\n"
     ]
    }
   ],
   "source": [
    "adarg = AdaBoostRegressor(n_estimators=100, random_state=123)\n",
    "adarg.fit(X_train_len,y_train_len)\n",
    "print(f\"The train score:\", adarg.score(X_train_len,y_train_len))\n",
    "print(f\"The test score:\", adarg.score(X_test_len,y_test_len))"
   ]
  }
 ],
 "metadata": {
  "kernelspec": {
   "display_name": "MyCodingSpace",
   "language": "python",
   "name": "python3"
  },
  "language_info": {
   "codemirror_mode": {
    "name": "ipython",
    "version": 3
   },
   "file_extension": ".py",
   "mimetype": "text/x-python",
   "name": "python",
   "nbconvert_exporter": "python",
   "pygments_lexer": "ipython3",
   "version": "3.9.13"
  },
  "vscode": {
   "interpreter": {
    "hash": "68a18809727d8e917faf1affb9f75fdaf9970c784f0f4145d4adf01af3480311"
   }
  }
 },
 "nbformat": 4,
 "nbformat_minor": 5
}
