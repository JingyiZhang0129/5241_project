{
 "cells": [
  {
   "cell_type": "code",
   "execution_count": null,
   "id": "fca488c0",
   "metadata": {
    "id": "fca488c0"
   },
   "outputs": [],
   "source": [
    "import pandas as pd\n",
    "import numpy as np\n",
    "import seaborn as sns\n",
    "import matplotlib.pyplot as plt\n",
    "\n",
    "from sklearn.preprocessing import OrdinalEncoder\n",
    "from sklearn.preprocessing import OneHotEncoder\n",
    "from sklearn.preprocessing import StandardScaler\n",
    "\n",
    "from sklearn.model_selection import train_test_split\n",
    "from sklearn.model_selection import validation_curve\n",
    "from sklearn.model_selection import cross_val_score\n",
    "from sklearn.model_selection import GridSearchCV\n",
    "\n",
    "from sklearn.linear_model import LinearRegression\n",
    "from sklearn.linear_model import Ridge\n",
    "from sklearn.linear_model import Lasso\n",
    "\n",
    "from sklearn.svm import SVR\n",
    "from sklearn.tree import DecisionTreeRegressor\n",
    "from sklearn.ensemble import RandomForestRegressor\n",
    "from sklearn.ensemble import AdaBoostRegressor\n",
    "\n",
    "from sklearn.tree import DecisionTreeClassifier\n",
    "from sklearn.ensemble import RandomForestClassifier\n",
    "from sklearn.ensemble import AdaBoostClassifier\n",
    "from sklearn.svm import SVC\n",
    "\n",
    "from sklearn.decomposition import PCA\n",
    "from sklearn.cluster import KMeans"
   ]
  },
  {
   "cell_type": "code",
   "execution_count": null,
   "id": "43040996",
   "metadata": {
    "colab": {
     "base_uri": "https://localhost:8080/"
    },
    "id": "43040996",
    "outputId": "4d6ab5ff-d407-458c-f9b7-9767327f7810"
   },
   "outputs": [],
   "source": [
    "# Load Data\n",
    "df = pd.read_csv(\"5241dataset.csv\", encoding = 'unicode_escape')"
   ]
  },
  {
   "cell_type": "markdown",
   "id": "a7c10bd2",
   "metadata": {
    "id": "a7c10bd2"
   },
   "source": [
    "## 1. Dataset Description"
   ]
  },
  {
   "cell_type": "code",
   "execution_count": null,
   "id": "acdc0fc0",
   "metadata": {
    "colab": {
     "base_uri": "https://localhost:8080/"
    },
    "id": "acdc0fc0",
    "outputId": "642b8148-3a14-4887-d2f8-6f417be337bf"
   },
   "outputs": [],
   "source": [
    "df.info()"
   ]
  },
  {
   "cell_type": "code",
   "execution_count": null,
   "id": "eafc0e67",
   "metadata": {
    "colab": {
     "base_uri": "https://localhost:8080/",
     "height": 896
    },
    "id": "eafc0e67",
    "outputId": "e0c9be85-5a26-489c-9a40-03428712d0bb"
   },
   "outputs": [],
   "source": [
    "df.describe().T"
   ]
  },
  {
   "cell_type": "markdown",
   "id": "7a33277d",
   "metadata": {
    "id": "7a33277d"
   },
   "source": [
    "## 2. Data Cleaning"
   ]
  },
  {
   "cell_type": "markdown",
   "id": "204e5004",
   "metadata": {
    "id": "204e5004"
   },
   "source": [
    "### 2.1 Missing Values"
   ]
  },
  {
   "cell_type": "code",
   "execution_count": null,
   "id": "2d8e82d4",
   "metadata": {
    "colab": {
     "base_uri": "https://localhost:8080/",
     "height": 651
    },
    "id": "2d8e82d4",
    "outputId": "07aa5973-7f90-4ecd-cb22-a22e656fdb69"
   },
   "outputs": [],
   "source": [
    "col_na = df.columns[df.isna().any()]\n",
    "col_na_ratio = df.isna().sum()/df.shape[0]\n",
    "\n",
    "print(\"The columns contain missing values are:\\n\", col_na)\n",
    "\n",
    "fig,ax = plt.subplots(figsize=(15,4))\n",
    "sns.barplot(x = df.columns, y = col_na_ratio, ax = ax)\n",
    "\n",
    "ax.tick_params(axis = 'x', rotation = 90)\n",
    "ax.set_xlabel('Features')\n",
    "ax.set_ylabel('Missing Rate')\n",
    "ax.set_title('Missing Rates of Different Features')\n",
    "\n",
    "plt.tick_params(labelsize=6)\n",
    "plt.show()"
   ]
  },
  {
   "cell_type": "code",
   "execution_count": null,
   "id": "0b76c66d",
   "metadata": {
    "id": "0b76c66d"
   },
   "outputs": [],
   "source": [
    "df.drop(['Individual ID','Predator TL/FL/SL conversion reference','Prey width','Prey width unit'], axis = 1, inplace = True)"
   ]
  },
  {
   "cell_type": "code",
   "execution_count": null,
   "id": "e28f2001",
   "metadata": {
    "colab": {
     "base_uri": "https://localhost:8080/"
    },
    "id": "e28f2001",
    "outputId": "70ef2391-260d-44f6-cd30-edbaf66dd865"
   },
   "outputs": [],
   "source": [
    "df.columns"
   ]
  },
  {
   "cell_type": "markdown",
   "id": "f9b8efa6",
   "metadata": {
    "id": "f9b8efa6"
   },
   "source": [
    "### 2.2 Dataset Split"
   ]
  },
  {
   "cell_type": "code",
   "execution_count": null,
   "id": "b5633ed5",
   "metadata": {
    "id": "b5633ed5"
   },
   "outputs": [],
   "source": [
    "df_predator = df[['Record number', 'Predator', 'Predator common name', 'Predator taxon',\n",
    "                'Predator lifestage', 'Type of feeding interaction', 'Predator length',\n",
    "                'Predator length unit', 'Predator standard length','Predator total length', \n",
    "                'Standardised predator length','Predator mass', 'Predator mass unit', 'Predator mass check',\n",
    "                'Predator mass check diff', 'Predator ratio mass/mass','SI predator mass', 'Diet coverage',\n",
    "                'Geographic location', 'Latitude', 'Latitude Degree', 'Latitude Minute','Latitude label', \n",
    "                'Longitude', 'Longitude Degree', 'Longitude Minute','Longitude label', 'Depth', \n",
    "                'Mean annual temp', 'SD annual temp','Mean PP', 'SD PP', 'Specific habitat']]\n",
    "df_prey = df[['Prey', 'Prey common name', 'Prey taxon', 'Prey length', 'Prey length unit', 'SI prey length',\n",
    "                'Prey mass', 'Prey mass unit', 'Prey mass check', 'Prey mass check diff', 'Prey ratio mass/mass', \n",
    "                'SI prey mass', 'Geographic location', 'Latitude', 'Latitude Degree', 'Latitude Minute',\n",
    "                'Latitude label', 'Longitude', 'Longitude Degree', 'Longitude Minute','Longitude label', \n",
    "                'Depth', 'Mean annual temp', 'SD annual temp','Mean PP', 'SD PP', 'Specific habitat']]"
   ]
  },
  {
   "cell_type": "markdown",
   "id": "e8eefdcc",
   "metadata": {
    "id": "e8eefdcc"
   },
   "source": [
    "#### 2.2.1 Predator Dataframe"
   ]
  },
  {
   "cell_type": "code",
   "execution_count": null,
   "id": "2685b411",
   "metadata": {
    "colab": {
     "base_uri": "https://localhost:8080/"
    },
    "id": "2685b411",
    "outputId": "c3f03711-d3cc-4eef-fc67-18f468af2560"
   },
   "outputs": [],
   "source": [
    "df_predator['Predator length unit'].value_counts()"
   ]
  },
  {
   "cell_type": "code",
   "execution_count": null,
   "id": "1d9be22c",
   "metadata": {
    "colab": {
     "base_uri": "https://localhost:8080/"
    },
    "id": "1d9be22c",
    "outputId": "87e0f108-27f4-48f9-993f-74436cfc3245"
   },
   "outputs": [],
   "source": [
    "for i in range(df_predator.shape[0]):\n",
    "    if df_predator['Predator length unit'][i] == 'mm':\n",
    "        df_predator['Predator length'][i] = df_predator['Predator length'][i]*0.1\n",
    "    if df_predator['Predator length unit'][i] == 'µm':\n",
    "        df_predator['Predator length'][i] = df_predator['Predator length'][i]*0.0001\n",
    "    else:\n",
    "        continue"
   ]
  },
  {
   "cell_type": "code",
   "execution_count": null,
   "id": "ab8c4048",
   "metadata": {
    "colab": {
     "base_uri": "https://localhost:8080/"
    },
    "id": "ab8c4048",
    "outputId": "9c772347-a1ac-4342-a396-656d16858a73"
   },
   "outputs": [],
   "source": [
    "df_predator['Predator mass unit'].value_counts()"
   ]
  },
  {
   "cell_type": "code",
   "execution_count": null,
   "id": "62e2683a",
   "metadata": {
    "colab": {
     "base_uri": "https://localhost:8080/"
    },
    "id": "62e2683a",
    "outputId": "aa2e130e-f95f-436f-e68b-672561fe3300"
   },
   "outputs": [],
   "source": [
    "df_predator.drop(['Predator length unit'], axis = 1, inplace = True)"
   ]
  },
  {
   "cell_type": "code",
   "execution_count": null,
   "id": "2ab6ae6a",
   "metadata": {
    "colab": {
     "base_uri": "https://localhost:8080/"
    },
    "id": "2ab6ae6a",
    "outputId": "efaf1a14-2e03-4b4f-86b8-c032a81c8b45"
   },
   "outputs": [],
   "source": [
    "df_predator['Predator common name'].value_counts()"
   ]
  },
  {
   "cell_type": "code",
   "execution_count": null,
   "id": "02ee0363",
   "metadata": {
    "colab": {
     "base_uri": "https://localhost:8080/"
    },
    "id": "02ee0363",
    "outputId": "857a8505-4b5c-4619-9dac-17bec0b2d259"
   },
   "outputs": [],
   "source": [
    "major_predator = df_predator['Predator common name'].value_counts()/df_predator.shape[0] >= 0.05\n",
    "major_predator_names = major_predator[major_predator == True].index\n",
    "major_predator_names"
   ]
  },
  {
   "cell_type": "code",
   "execution_count": null,
   "id": "3d36c87d",
   "metadata": {
    "id": "3d36c87d"
   },
   "outputs": [],
   "source": [
    "df_names = []\n",
    "for name in major_predator_names:\n",
    "    df_names.append(df_predator[df_predator['Predator common name'] == name])\n",
    "df_predator_new = pd.concat(df_names, ignore_index= True)"
   ]
  },
  {
   "cell_type": "code",
   "execution_count": null,
   "id": "58e50219",
   "metadata": {
    "id": "58e50219"
   },
   "outputs": [],
   "source": [
    "predator_y = df_predator_new['Predator common name']\n",
    "predator_x = df_predator_new[['Predator taxon','Predator lifestage', 'Type of feeding interaction','Predator length','Predator mass',\n",
    "                            'Diet coverage','Geographic location','Depth','Mean annual temp', 'Mean PP', 'Specific habitat']]"
   ]
  },
  {
   "cell_type": "markdown",
   "id": "0896a789",
   "metadata": {
    "id": "0896a789"
   },
   "source": [
    "#### 2.2.2 Prey Dataframe"
   ]
  },
  {
   "cell_type": "code",
   "execution_count": null,
   "id": "09087a42",
   "metadata": {
    "colab": {
     "base_uri": "https://localhost:8080/"
    },
    "id": "09087a42",
    "outputId": "9bb98a8e-9405-42ee-9720-211a429bf61a"
   },
   "outputs": [],
   "source": [
    "df_prey['Prey length unit'].value_counts()"
   ]
  },
  {
   "cell_type": "code",
   "execution_count": null,
   "id": "80e6cf1a",
   "metadata": {
    "colab": {
     "base_uri": "https://localhost:8080/"
    },
    "id": "80e6cf1a",
    "outputId": "4d0a7a1f-aee7-44ac-bc72-29b3e222ebb6"
   },
   "outputs": [],
   "source": [
    "for i in range(df_prey.shape[0]):\n",
    "    if df_prey['Prey length unit'][i] == 'mm':\n",
    "        df_prey['Prey length'][i] = df_prey['Prey length'][i]*0.1\n",
    "    if df_prey['Prey length unit'][i] == 'µm':\n",
    "        df_prey['Prey length'][i] = df_prey['Prey length'][i]*0.0001\n",
    "    else:\n",
    "        continue"
   ]
  },
  {
   "cell_type": "code",
   "execution_count": null,
   "id": "d3c0c4f2",
   "metadata": {
    "colab": {
     "base_uri": "https://localhost:8080/"
    },
    "id": "d3c0c4f2",
    "outputId": "3c10d102-f007-46f9-c171-48d368885324"
   },
   "outputs": [],
   "source": [
    "df_prey['Prey mass unit'].value_counts()"
   ]
  },
  {
   "cell_type": "code",
   "execution_count": null,
   "id": "2afbaaa1",
   "metadata": {
    "colab": {
     "base_uri": "https://localhost:8080/"
    },
    "id": "2afbaaa1",
    "outputId": "3b16b7da-d6bf-4333-c8c5-b4967a18f8d2"
   },
   "outputs": [],
   "source": [
    "for i in range(df_prey.shape[0]):\n",
    "    if df_prey['Prey mass unit'][i] == 'mg':\n",
    "        df_prey['Prey mass'][i] = df_prey['Prey mass'][i]*0.001\n",
    "    else:\n",
    "        continue"
   ]
  },
  {
   "cell_type": "code",
   "execution_count": null,
   "id": "dd4311e7",
   "metadata": {
    "colab": {
     "base_uri": "https://localhost:8080/"
    },
    "id": "dd4311e7",
    "outputId": "28249bc4-644d-4062-9c8b-2786ffa00cd3"
   },
   "outputs": [],
   "source": [
    "df_prey.drop(['Prey length unit','Prey mass unit'], axis = 1, inplace = True)"
   ]
  },
  {
   "cell_type": "code",
   "execution_count": null,
   "id": "ba6ad3f1",
   "metadata": {
    "id": "ba6ad3f1"
   },
   "outputs": [],
   "source": [
    "prey_y = df_prey['Prey taxon']\n",
    "prey_x = df_prey[['Prey length','Prey mass', 'Geographic location','Depth', 'Mean annual temp', 'Mean PP', 'Specific habitat']]"
   ]
  },
  {
   "cell_type": "markdown",
   "id": "bee84bc5",
   "metadata": {
    "id": "bee84bc5"
   },
   "source": [
    "## 3. Data Visualization"
   ]
  },
  {
   "cell_type": "markdown",
   "id": "75534018",
   "metadata": {
    "id": "75534018"
   },
   "source": [
    "### 3.1 Correlations of Independent Variables"
   ]
  },
  {
   "cell_type": "code",
   "execution_count": null,
   "id": "3c18ce07",
   "metadata": {
    "colab": {
     "base_uri": "https://localhost:8080/",
     "height": 563
    },
    "id": "3c18ce07",
    "outputId": "1adb58a9-cac3-4893-c77b-e25f52841542"
   },
   "outputs": [],
   "source": [
    "# Predators\n",
    "corr_matrix = predator_x.corr()\n",
    "fig = plt.figure(figsize = (4,4))\n",
    "plt.title('Correlations of Predators')\n",
    "sns.heatmap(corr_matrix, annot=True, annot_kws={\"size\":6}, center=0, cmap=\"YlGn\")\n",
    "plt.show()"
   ]
  },
  {
   "cell_type": "code",
   "execution_count": null,
   "id": "ed8c82ab",
   "metadata": {
    "colab": {
     "base_uri": "https://localhost:8080/",
     "height": 563
    },
    "id": "ed8c82ab",
    "outputId": "5537ca63-0586-4350-8691-ca65d563b4bb"
   },
   "outputs": [],
   "source": [
    "# Preys\n",
    "corr_matrix = prey_x.corr()\n",
    "fig = plt.figure(figsize = (4,4))\n",
    "plt.title('Correlations of Preys')\n",
    "sns.heatmap(corr_matrix, annot=True, annot_kws={\"size\":6}, center=0, cmap=\"YlGn\")\n",
    "plt.show()"
   ]
  },
  {
   "cell_type": "code",
   "execution_count": null,
   "id": "7yJ5_jMuT_wv",
   "metadata": {
    "colab": {
     "base_uri": "https://localhost:8080/"
    },
    "id": "7yJ5_jMuT_wv",
    "outputId": "f15a312f-b53f-4908-a9d6-cb59c5eabb3d"
   },
   "outputs": [],
   "source": [
    "df['Prey taxon'].unique()"
   ]
  },
  {
   "cell_type": "markdown",
   "id": "c1e42679",
   "metadata": {
    "id": "c1e42679"
   },
   "source": [
    "### 3.2 Distribution of Dependent Variable"
   ]
  },
  {
   "cell_type": "code",
   "execution_count": null,
   "id": "d7b9d059",
   "metadata": {
    "colab": {
     "base_uri": "https://localhost:8080/",
     "height": 615
    },
    "id": "d7b9d059",
    "outputId": "a1bc5a98-0641-47ba-e97f-24bb1d552bcb"
   },
   "outputs": [],
   "source": [
    "fig, ax=plt.subplots(figsize=(5,5))\n",
    "sns.histplot(predator_y, ax=ax)\n",
    "plt.xticks(rotation = 90)\n",
    "plt.show()"
   ]
  },
  {
   "cell_type": "code",
   "execution_count": null,
   "id": "236da0f7",
   "metadata": {
    "colab": {
     "base_uri": "https://localhost:8080/",
     "height": 613
    },
    "id": "236da0f7",
    "outputId": "04590a1e-819d-4f92-f7a9-abb8f628c7e4"
   },
   "outputs": [],
   "source": [
    "fig, ax=plt.subplots(figsize=(5,5))\n",
    "sns.histplot(prey_y, ax=ax)\n",
    "plt.xticks(rotation = 90)\n",
    "plt.show()"
   ]
  },
  {
   "cell_type": "markdown",
   "id": "0bf0bf44",
   "metadata": {},
   "source": [
    "### 3.3 Numerial Features"
   ]
  },
  {
   "cell_type": "code",
   "execution_count": null,
   "id": "bb3ebce7",
   "metadata": {},
   "outputs": [],
   "source": [
    "#predator and prey\n",
    "df_v = pd.concat([predator_x,prey_x],axis=1)\n",
    "\n",
    "numeric_cols = ['Predator length', 'Predator mass','Prey length', 'Prey mass']\n",
    "print(len(numeric_cols))\n",
    "\n",
    "fig, ax=plt.subplots(nrows=2, ncols=2, figsize=(10,10))\n",
    "\n",
    "for var, subplot in zip(numeric_cols, ax.flatten()):\n",
    "    b=sns.histplot(x=var, data=df_v, ax=subplot)\n",
    "    b.set_xlabel(str(var), fontsize = 5)\n",
    "    b.set_title(f'Distribution of {var}')\n",
    "\n",
    "plt.show()"
   ]
  },
  {
   "cell_type": "code",
   "execution_count": null,
   "id": "9193bac2",
   "metadata": {},
   "outputs": [],
   "source": [
    "# geographical\n",
    "df_v = pd.concat([predator_x,prey_x],axis=1)\n",
    "\n",
    "numeric_cols = ['Depth', 'Mean annual temp','Mean PP']\n",
    "print(len(numeric_cols))\n",
    "\n",
    "fig, ax=plt.subplots(nrows=1, ncols=3, figsize=(17,6))\n",
    "\n",
    "for var, subplot in zip(numeric_cols, ax.flatten()):\n",
    "    b=sns.histplot(x=var, data=df, ax=subplot)\n",
    "    b.set_xlabel(str(var), fontsize = 10)\n",
    "    b.set_title(f'Distribution of {var}')\n",
    "\n",
    "plt.show()"
   ]
  },
  {
   "cell_type": "markdown",
   "id": "9c93ba7f",
   "metadata": {},
   "source": [
    "### 3.4 Categorical Features"
   ]
  },
  {
   "cell_type": "code",
   "execution_count": null,
   "id": "e484b3c1",
   "metadata": {},
   "outputs": [],
   "source": [
    "# Prey Common Names\n",
    "def myformat(value):\n",
    "    return f'{value:.1f}%'\n",
    "\n",
    "threshold = 1000\n",
    "y = df['Prey common name'].value_counts()\n",
    "mylabels =y.index\n",
    "print(mylabels[y >= threshold])\n",
    "small_values = y[y < threshold]\n",
    "other_value = sum(small_values)\n",
    "y = y[y >= threshold]\n",
    "mylabels = y.index\n",
    "y = np.append(y, other_value)\n",
    "mylabels = np.append(mylabels, \"Other\")\n",
    "\n",
    "fig1, ax1 = plt.subplots(figsize = (5,5))\n",
    "ax1.pie(y, labels=mylabels, textprops={'rotation': 0}, autopct=myformat, colors=['bisque','honeydew','mistyrose','lightcyan','lavender'])\n",
    "ax1.set_title(\"Prey Common Name distribution\")\n",
    "plt.show()"
   ]
  },
  {
   "cell_type": "code",
   "execution_count": null,
   "id": "bf347d50",
   "metadata": {},
   "outputs": [],
   "source": [
    "# Prey taxon\n",
    "def myformat(value):\n",
    "    return f'{value:.1f}%'\n",
    "\n",
    "threshold = 1000\n",
    "y = df['Prey taxon'].value_counts()\n",
    "mylabels =y.index\n",
    "\n",
    "fig1, ax1 = plt.subplots(figsize = (5,5))\n",
    "ax1.pie(y, labels=mylabels, textprops={'rotation': 0}, autopct=myformat, colors=['bisque','honeydew','mistyrose','lightcyan','lavender'])\n",
    "ax1.set_title(\"Prey taxon distribution\")\n",
    "plt.show()"
   ]
  },
  {
   "cell_type": "code",
   "execution_count": null,
   "id": "29fe5031",
   "metadata": {},
   "outputs": [],
   "source": [
    "# predator common names\n",
    "def myformat(value):\n",
    "    return f'{value:.1f}%'\n",
    "\n",
    "threshold = 1000\n",
    "y = df['Predator common name'].value_counts()\n",
    "mylabels =y.index\n",
    "print(mylabels[y >= threshold])\n",
    "small_values = y[y < threshold]\n",
    "other_value = sum(small_values)\n",
    "y = y[y >= threshold]\n",
    "mylabels = y.index\n",
    "y = np.append(y, other_value)\n",
    "mylabels = np.append(mylabels, \"Other\")\n",
    "\n",
    "fig1, ax1 = plt.subplots(figsize = (5,5))\n",
    "ax1.pie(y, labels=mylabels, textprops={'rotation': 0}, autopct=myformat, colors=['bisque','honeydew','mistyrose','lightcyan','lavender'])\n",
    "ax1.set_title(\"Predator Common Name distribution\")\n",
    "plt.show()"
   ]
  },
  {
   "cell_type": "code",
   "execution_count": null,
   "id": "1094a039",
   "metadata": {},
   "outputs": [],
   "source": [
    "# Predator taxon\n",
    "def myformat(value):\n",
    "    return f'{value:.1f}%'\n",
    "\n",
    "threshold = 1000\n",
    "y = df['Predator taxon'].value_counts()\n",
    "mylabels =y.index\n",
    "\n",
    "fig1, ax1 = plt.subplots(figsize = (5,5))\n",
    "ax1.pie(y, labels=mylabels, textprops={'rotation': 0}, autopct=myformat, colors=['bisque','honeydew','mistyrose','lightcyan','lavender'])\n",
    "ax1.set_title(\"Predator taxon distribution\")\n",
    "plt.show()"
   ]
  },
  {
   "cell_type": "markdown",
   "id": "e68dbb75",
   "metadata": {
    "id": "e68dbb75"
   },
   "source": [
    "## 4. Classification Model"
   ]
  },
  {
   "cell_type": "markdown",
   "id": "5ad9a0d9",
   "metadata": {
    "id": "5ad9a0d9"
   },
   "source": [
    "### 4.1 Classify Predator common names"
   ]
  },
  {
   "cell_type": "code",
   "execution_count": null,
   "id": "1f3c6b5f",
   "metadata": {
    "colab": {
     "base_uri": "https://localhost:8080/"
    },
    "id": "1f3c6b5f",
    "outputId": "70b78919-88dd-4915-f749-7a144cb6fc12"
   },
   "outputs": [],
   "source": [
    "# Categorical Feature Encoding \n",
    "ordinalencoder = OrdinalEncoder()\n",
    "predator_x['Predator taxon'] = ordinalencoder.fit_transform(predator_x[['Predator taxon']]).reshape(1,-1).tolist()[0]\n",
    "predator_x['Predator lifestage'] = ordinalencoder.fit_transform(predator_x[['Predator lifestage']]).reshape(1,-1).tolist()[0]\n",
    "predator_x['Type of feeding interaction'] = ordinalencoder.fit_transform(predator_x[['Type of feeding interaction']]).reshape(1,-1).tolist()[0]\n",
    "predator_x['Diet coverage'] = ordinalencoder.fit_transform(predator_x[['Diet coverage']]).reshape(1,-1).tolist()[0]\n",
    "predator_x['Geographic location'] = ordinalencoder.fit_transform(predator_x[['Geographic location']]).reshape(1,-1).tolist()[0]\n",
    "predator_x['Specific habitat'] = ordinalencoder.fit_transform(predator_x[['Specific habitat']]).reshape(1,-1).tolist()[0]"
   ]
  },
  {
   "cell_type": "code",
   "execution_count": null,
   "id": "92086d39",
   "metadata": {
    "id": "92086d39"
   },
   "outputs": [],
   "source": [
    "# Train Test Split\n",
    "X_train_predator, X_test_predator, y_train_predator, y_test_predator = train_test_split(predator_x, \n",
    "                                                                                        predator_y, \n",
    "                                                                                        test_size=0.2, \n",
    "                                                                                        random_state=123)\n",
    "\n",
    "# Scaling\n",
    "scaler = StandardScaler()\n",
    "X_train_predator = scaler.fit_transform(X_train_predator)   \n",
    "X_test_predator = scaler.transform(X_test_predator)   "
   ]
  },
  {
   "cell_type": "markdown",
   "id": "d2f18718",
   "metadata": {
    "id": "d2f18718"
   },
   "source": [
    "#### 4.1.1 SVC"
   ]
  },
  {
   "cell_type": "code",
   "execution_count": null,
   "id": "86defea4",
   "metadata": {
    "colab": {
     "base_uri": "https://localhost:8080/"
    },
    "id": "86defea4",
    "outputId": "c7535f73-4df0-4c6c-c37c-76f2f5553744"
   },
   "outputs": [],
   "source": [
    "svc = SVC(C=1,gamma='scale')\n",
    "svc.fit(X_train_predator,y_train_predator)\n",
    "print(f\"The train score is:\",svc.score(X_train_predator,y_train_predator))\n",
    "print(f\"The test score is:\",svc.score(X_test_predator,y_test_predator))"
   ]
  },
  {
   "cell_type": "code",
   "execution_count": null,
   "id": "4dfd2490",
   "metadata": {
    "colab": {
     "base_uri": "https://localhost:8080/"
    },
    "id": "4dfd2490",
    "outputId": "f30fdaac-0993-469e-e4b8-b2aa270a8001"
   },
   "outputs": [],
   "source": [
    "# Grid Search\n",
    "params = {'C': [0.1, 1, 10], 'gamma': [1, 0.1, 0.01]}\n",
    "svc_gscv = GridSearchCV(estimator = SVC(random_state=123), param_grid=params, cv=3, refit=True, n_jobs=-1)\n",
    "svc_gscv.fit(X_train_predator, y_train_predator)\n",
    "print(f'svc best hyperparams      : {svc_gscv.best_params_}')\n",
    "print(f'svc best mean cv accuracy : {svc_gscv.best_score_:.2f}')"
   ]
  },
  {
   "cell_type": "code",
   "execution_count": null,
   "id": "aa96e473",
   "metadata": {
    "colab": {
     "base_uri": "https://localhost:8080/",
     "height": 75
    },
    "id": "aa96e473",
    "outputId": "1f0a3c5d-b283-4822-9351-a8ff9d822b39"
   },
   "outputs": [],
   "source": [
    "svc_best = SVC(C=10,gamma=1,kernel='linear')\n",
    "svc_best.fit(X_train_predator,y_train_predator)"
   ]
  },
  {
   "cell_type": "code",
   "execution_count": null,
   "id": "3d3e9f64",
   "metadata": {
    "colab": {
     "base_uri": "https://localhost:8080/"
    },
    "id": "3d3e9f64",
    "outputId": "7df9db95-ac07-4a0b-d672-7e6453c2ce71"
   },
   "outputs": [],
   "source": [
    "importances = svc_best.coef_[0]\n",
    "features_dict = dict(zip(predator_x.columns, abs(importances)))\n",
    "important_features = sorted(features_dict.items(), key=lambda x: -x[1])\n",
    "important_features"
   ]
  },
  {
   "cell_type": "code",
   "execution_count": null,
   "id": "d19bb095",
   "metadata": {
    "colab": {
     "base_uri": "https://localhost:8080/",
     "height": 644
    },
    "id": "d19bb095",
    "outputId": "6f248a36-fe53-473d-ccf1-c10ddab152ef"
   },
   "outputs": [],
   "source": [
    "sns.barplot(x=predator_x.columns, y=abs(importances))\n",
    "plt.xticks(rotation=90)\n",
    "plt.title(\"Feature Importance of SVC\")\n",
    "plt.xlabel(\"Feature names\")\n",
    "plt.ylabel(\"Feature importance\")\n",
    "plt.show()"
   ]
  },
  {
   "cell_type": "markdown",
   "id": "b448f930",
   "metadata": {
    "id": "b448f930"
   },
   "source": [
    "#### 4.1.2 Decision Tree"
   ]
  },
  {
   "cell_type": "code",
   "execution_count": null,
   "id": "3fa32ebe",
   "metadata": {
    "colab": {
     "base_uri": "https://localhost:8080/"
    },
    "id": "3fa32ebe",
    "outputId": "538ed4c6-9a7e-4b8d-cf81-c96c49a9113b"
   },
   "outputs": [],
   "source": [
    "dt = DecisionTreeClassifier(criterion='gini', max_depth = 5)\n",
    "dt.fit(X_train_predator,y_train_predator)\n",
    "print(f\"The train score is:\",dt.score(X_train_predator,y_train_predator))\n",
    "print(f\"The test score is:\",dt.score(X_test_predator,y_test_predator))"
   ]
  },
  {
   "cell_type": "code",
   "execution_count": null,
   "id": "99ecb3ba",
   "metadata": {
    "colab": {
     "base_uri": "https://localhost:8080/"
    },
    "id": "99ecb3ba",
    "outputId": "0c1352f7-aaad-49fb-9f80-d062594ff997"
   },
   "outputs": [],
   "source": [
    "# Grid Search\n",
    "params = {'criterion': ['gini', 'entropy'], 'max_depth' : [2,3,4,5,6]}\n",
    "dt_gscv = GridSearchCV(estimator = DecisionTreeClassifier(random_state=123), param_grid=params, cv=3, refit=True, n_jobs=-1)\n",
    "dt_gscv.fit(X_train_predator, y_train_predator)\n",
    "print(f'dt best hyperparams      : {dt_gscv.best_params_}')\n",
    "print(f'dt best mean cv accuracy : {dt_gscv.best_score_:.2f}')"
   ]
  },
  {
   "cell_type": "code",
   "execution_count": null,
   "id": "41622eb3",
   "metadata": {
    "colab": {
     "base_uri": "https://localhost:8080/",
     "height": 75
    },
    "id": "41622eb3",
    "outputId": "088aaa24-7ff2-4a92-a185-96a812a387dc"
   },
   "outputs": [],
   "source": [
    "dt_best = DecisionTreeClassifier(criterion='entropy',max_depth=6)\n",
    "dt_best.fit(X_train_predator, y_train_predator)"
   ]
  },
  {
   "cell_type": "code",
   "execution_count": null,
   "id": "9e13192b",
   "metadata": {
    "colab": {
     "base_uri": "https://localhost:8080/"
    },
    "id": "9e13192b",
    "outputId": "e54d4698-3974-496f-ff9d-0c04d3aa0424"
   },
   "outputs": [],
   "source": [
    "importances = dt_best.feature_importances_\n",
    "features_dict = dict(zip(predator_x.columns, abs(importances)))\n",
    "important_features = sorted(features_dict.items(), key=lambda x: -x[1])\n",
    "important_features"
   ]
  },
  {
   "cell_type": "code",
   "execution_count": null,
   "id": "97b6076d",
   "metadata": {
    "colab": {
     "base_uri": "https://localhost:8080/",
     "height": 644
    },
    "id": "97b6076d",
    "outputId": "9dae4dae-e92e-4d26-ee20-6fb9db07ccf7"
   },
   "outputs": [],
   "source": [
    "sns.barplot(x=predator_x.columns, y=abs(importances))\n",
    "plt.xticks(rotation=90)\n",
    "plt.title(\"Feature Importance of Decision Tree\")\n",
    "plt.xlabel(\"Feature names\")\n",
    "plt.ylabel(\"Feature importance\")\n",
    "plt.show()"
   ]
  },
  {
   "cell_type": "markdown",
   "id": "e8c5a564",
   "metadata": {
    "id": "e8c5a564"
   },
   "source": [
    "#### 4.1.3 Random Forest"
   ]
  },
  {
   "cell_type": "code",
   "execution_count": null,
   "id": "e84d3b3b",
   "metadata": {
    "colab": {
     "base_uri": "https://localhost:8080/"
    },
    "id": "e84d3b3b",
    "outputId": "3affe648-8d9c-4e1d-d3ab-8a548171e937"
   },
   "outputs": [],
   "source": [
    "# normal random forest\n",
    "rfc = RandomForestClassifier(n_estimators=50, max_depth=5)\n",
    "rfc.fit(X_train_predator,y_train_predator)\n",
    "print(f\"The train score is:\",rfc.score(X_train_predator,y_train_predator))\n",
    "print(f\"The test score is:\",rfc.score(X_test_predator,y_test_predator))"
   ]
  },
  {
   "cell_type": "code",
   "execution_count": null,
   "id": "77575dec",
   "metadata": {
    "colab": {
     "base_uri": "https://localhost:8080/"
    },
    "id": "77575dec",
    "outputId": "73b8e7b8-fb9a-4e5b-fd2c-540fc8154b2b"
   },
   "outputs": [],
   "source": [
    "# cross validation\n",
    "rfc_cv_scores = cross_val_score(rfc, X_train_predator, y_train_predator, cv=5, n_jobs=-1)\n",
    "rfc_cv_scores"
   ]
  },
  {
   "cell_type": "code",
   "execution_count": null,
   "id": "04d1f790",
   "metadata": {
    "colab": {
     "base_uri": "https://localhost:8080/",
     "height": 112
    },
    "id": "04d1f790",
    "outputId": "62f23590-f1c5-4c32-f8c1-584f6619c82f"
   },
   "outputs": [],
   "source": [
    "depths = [2,4,6,8,10]\n",
    "train_scores,test_scores = validation_curve(RandomForestClassifier(n_estimators=50), \n",
    "                                            X_train_predator, y_train_predator, \n",
    "                                            param_name='max_depth', param_range=depths, cv=3)\n",
    "mean_train_scores = np.average(train_scores, axis=1)\n",
    "mean_test_scores = np.average(test_scores, axis=1)\n",
    "pd.DataFrame([mean_train_scores.round(2),mean_test_scores.round(2)],\n",
    "             columns=pd.Series(depths,name='max_depth'),\n",
    "             index=['mean_train_scores','mean_test_scores'])\n"
   ]
  },
  {
   "cell_type": "code",
   "execution_count": null,
   "id": "380cdf08",
   "metadata": {
    "colab": {
     "base_uri": "https://localhost:8080/"
    },
    "id": "380cdf08",
    "outputId": "dd72d772-b34b-46a7-c758-3d966a7501da"
   },
   "outputs": [],
   "source": [
    "# Grid Search\n",
    "params = {'n_estimators':[10,50,100,150],'max_depth':[2,3,4,5,6]}\n",
    "rfc_gscv = GridSearchCV(estimator=RandomForestClassifier(random_state=123), param_grid=params, cv=3, refit=True, n_jobs=-1)\n",
    "rfc_gscv.fit(X_train_predator, y_train_predator)\n",
    "print(f'rfc best hyperparams      : {rfc_gscv.best_params_}')\n",
    "print(f'rfc best mean cv accuracy : {rfc_gscv.best_score_:.2f}')"
   ]
  },
  {
   "cell_type": "code",
   "execution_count": null,
   "id": "6e655976",
   "metadata": {
    "colab": {
     "base_uri": "https://localhost:8080/",
     "height": 75
    },
    "id": "6e655976",
    "outputId": "75046423-f8f3-403e-b1e6-a5b39dfc60a6"
   },
   "outputs": [],
   "source": [
    "rfc_best = RandomForestClassifier(max_depth=6,n_estimators=10)\n",
    "rfc_best.fit(X_train_predator, y_train_predator)"
   ]
  },
  {
   "cell_type": "code",
   "execution_count": null,
   "id": "87bdb7d4",
   "metadata": {
    "colab": {
     "base_uri": "https://localhost:8080/"
    },
    "id": "87bdb7d4",
    "outputId": "ef74a08b-abb3-4467-e6e1-c200516b735a"
   },
   "outputs": [],
   "source": [
    "importances = rfc_best.feature_importances_\n",
    "features_dict = dict(zip(predator_x.columns, abs(importances)))\n",
    "important_features = sorted(features_dict.items(), key=lambda x: -x[1])\n",
    "important_features"
   ]
  },
  {
   "cell_type": "code",
   "execution_count": null,
   "id": "16f8c83b",
   "metadata": {
    "colab": {
     "base_uri": "https://localhost:8080/",
     "height": 393
    },
    "id": "16f8c83b",
    "outputId": "e38127ca-00cd-4814-977d-07493e7d840b"
   },
   "outputs": [],
   "source": [
    "sns.barplot(x=predator_x.columns, y=abs(importances))\n",
    "plt.xticks(rotation=90)\n",
    "plt.title(\"Feature Importance of Random Forest\")\n",
    "plt.xlabel(\"Feature names\")\n",
    "plt.ylabel(\"Feature importance\")\n",
    "plt.show()"
   ]
  },
  {
   "cell_type": "markdown",
   "id": "311f1e4f",
   "metadata": {
    "id": "311f1e4f"
   },
   "source": [
    "#### 4.1.4 Adaboost"
   ]
  },
  {
   "cell_type": "code",
   "execution_count": null,
   "id": "c16c9e41",
   "metadata": {
    "colab": {
     "base_uri": "https://localhost:8080/"
    },
    "id": "c16c9e41",
    "outputId": "61948315-52b1-470e-d2d9-e37dda993910"
   },
   "outputs": [],
   "source": [
    "ada = AdaBoostClassifier(n_estimators=50, learning_rate=1)\n",
    "ada.fit(X_train_predator,y_train_predator)\n",
    "print(f\"The train score is:\",ada.score(X_train_predator,y_train_predator))\n",
    "print(f\"The test score is:\",ada.score(X_test_predator,y_test_predator))"
   ]
  },
  {
   "cell_type": "code",
   "execution_count": null,
   "id": "42f1a4d7",
   "metadata": {
    "colab": {
     "base_uri": "https://localhost:8080/"
    },
    "id": "42f1a4d7",
    "outputId": "4fd4888f-a401-4927-f6de-8d12a697d56e"
   },
   "outputs": [],
   "source": [
    "# Grid Search\n",
    "params = {'n_estimators':[10,50,100,150],'learning_rate':[0.01,0.1,0.5,1]}\n",
    "ada_gscv = GridSearchCV(estimator=AdaBoostClassifier(random_state=123), param_grid=params, cv=3, refit=True, n_jobs=-1)\n",
    "ada_gscv.fit(X_train_predator, y_train_predator)\n",
    "print(f'ada best hyperparams      : {ada_gscv.best_params_}')\n",
    "print(f'ada best mean cv accuracy : {ada_gscv.best_score_:.2f}')"
   ]
  },
  {
   "cell_type": "code",
   "execution_count": null,
   "id": "9ebc4063",
   "metadata": {
    "colab": {
     "base_uri": "https://localhost:8080/",
     "height": 75
    },
    "id": "9ebc4063",
    "outputId": "4a6cf2df-5d82-456c-b39a-dbdd5a4a7935"
   },
   "outputs": [],
   "source": [
    "ada_best = AdaBoostClassifier(learning_rate=0.5,n_estimators=50)\n",
    "ada_best.fit(X_train_predator, y_train_predator)"
   ]
  },
  {
   "cell_type": "code",
   "execution_count": null,
   "id": "b5f44f57",
   "metadata": {
    "colab": {
     "base_uri": "https://localhost:8080/"
    },
    "id": "b5f44f57",
    "outputId": "bf68034a-9aef-4bea-8f34-04160c63084f"
   },
   "outputs": [],
   "source": [
    "importances = ada_best.feature_importances_\n",
    "features_dict = dict(zip(predator_x.columns, abs(importances)))\n",
    "important_features = sorted(features_dict.items(), key=lambda x: -x[1])\n",
    "important_features"
   ]
  },
  {
   "cell_type": "code",
   "execution_count": null,
   "id": "59279ef1",
   "metadata": {
    "colab": {
     "base_uri": "https://localhost:8080/",
     "height": 393
    },
    "id": "59279ef1",
    "outputId": "f193820e-e9af-4f73-a07d-c19d75dea05b"
   },
   "outputs": [],
   "source": [
    "sns.barplot(x=predator_x.columns, y=abs(importances))\n",
    "plt.xticks(rotation=90)\n",
    "plt.title(\"Feature Importance of AdaBoost\")\n",
    "plt.xlabel(\"Feature names\")\n",
    "plt.ylabel(\"Feature importance\")\n",
    "plt.show()"
   ]
  },
  {
   "cell_type": "markdown",
   "id": "6a3d4a22",
   "metadata": {
    "id": "6a3d4a22"
   },
   "source": [
    "### 4.2 Classify Prey taxon"
   ]
  },
  {
   "cell_type": "code",
   "execution_count": null,
   "id": "8191095c",
   "metadata": {
    "colab": {
     "base_uri": "https://localhost:8080/"
    },
    "id": "8191095c",
    "outputId": "c0701e33-22d6-4023-eb7f-31715bbb3fce"
   },
   "outputs": [],
   "source": [
    "ordinalencoder = OrdinalEncoder()\n",
    "prey_x['Geographic location'] = ordinalencoder.fit_transform(prey_x[['Geographic location']]).reshape(1,-1).tolist()[0]\n",
    "prey_x['Specific habitat'] = ordinalencoder.fit_transform(prey_x[['Specific habitat']]).reshape(1,-1).tolist()[0]"
   ]
  },
  {
   "cell_type": "code",
   "execution_count": null,
   "id": "1312dc18",
   "metadata": {
    "id": "1312dc18"
   },
   "outputs": [],
   "source": [
    "from sklearn.model_selection import train_test_split\n",
    "\n",
    "# Train Test Split\n",
    "X_train_prey, X_test_prey, y_train_prey, y_test_prey = train_test_split(prey_x, \n",
    "                                                                        prey_y, \n",
    "                                                                        test_size=0.2, \n",
    "                                                                        random_state=123)\n",
    "\n",
    "# Scaling\n",
    "scaler = StandardScaler()\n",
    "X_train_prey = scaler.fit_transform(X_train_prey)   \n",
    "X_test_prey = scaler.transform(X_test_prey)"
   ]
  },
  {
   "cell_type": "markdown",
   "id": "2050f6bf",
   "metadata": {
    "id": "2050f6bf"
   },
   "source": [
    "#### 4.2.1 SVC"
   ]
  },
  {
   "cell_type": "code",
   "execution_count": null,
   "id": "2f39f1a7",
   "metadata": {
    "colab": {
     "base_uri": "https://localhost:8080/"
    },
    "id": "2f39f1a7",
    "outputId": "c6eac04a-1257-4325-f5d0-a3ea15172b4c"
   },
   "outputs": [],
   "source": [
    "svc = SVC(C=1,gamma='scale')\n",
    "svc.fit(X_train_prey,y_train_prey)\n",
    "print(f\"The train score is:\",svc.score(X_train_prey,y_train_prey))\n",
    "print(f\"The test score is:\",svc.score(X_test_prey,y_test_prey))"
   ]
  },
  {
   "cell_type": "code",
   "execution_count": null,
   "id": "b764b955",
   "metadata": {
    "colab": {
     "base_uri": "https://localhost:8080/"
    },
    "id": "b764b955",
    "outputId": "fb455d5d-41d9-4d54-be9b-9cb9c66f8048"
   },
   "outputs": [],
   "source": [
    "# Grid Search\n",
    "params = {'C': [0.1, 1, 10], 'gamma': [1, 0.1, 0.01]}\n",
    "svc_gscv = GridSearchCV(estimator = SVC(random_state=123), param_grid=params, cv=3, refit=True, n_jobs=-1)\n",
    "svc_gscv.fit(X_train_prey, y_train_prey)\n",
    "print(f'svc best hyperparams      : {svc_gscv.best_params_}')\n",
    "print(f'svc best mean cv accuracy : {svc_gscv.best_score_:.2f}')"
   ]
  },
  {
   "cell_type": "code",
   "execution_count": null,
   "id": "Ak8qqGwW_doO",
   "metadata": {
    "colab": {
     "base_uri": "https://localhost:8080/",
     "height": 75
    },
    "id": "Ak8qqGwW_doO",
    "outputId": "c55655fd-5351-44e3-eb52-751663d6e4a6"
   },
   "outputs": [],
   "source": [
    "svc_best = SVC(C=10,gamma=1,kernel='linear')\n",
    "svc_best.fit(X_train_prey,y_train_prey)"
   ]
  },
  {
   "cell_type": "code",
   "execution_count": null,
   "id": "n1P26IQA_heJ",
   "metadata": {
    "colab": {
     "base_uri": "https://localhost:8080/"
    },
    "id": "n1P26IQA_heJ",
    "outputId": "a25a0557-30cb-4dbe-d351-6208610de271"
   },
   "outputs": [],
   "source": [
    "importances = svc_best.coef_[0]\n",
    "features_dict = dict(zip(prey_x.columns, abs(importances)))\n",
    "important_features = sorted(features_dict.items(), key=lambda x: -x[1])\n",
    "important_features"
   ]
  },
  {
   "cell_type": "code",
   "execution_count": null,
   "id": "1BKJls0x_l-1",
   "metadata": {
    "colab": {
     "base_uri": "https://localhost:8080/",
     "height": 597
    },
    "id": "1BKJls0x_l-1",
    "outputId": "2dd7c0f0-3355-4f4d-9863-dd6bf8b8e413"
   },
   "outputs": [],
   "source": [
    "sns.barplot(x=prey_x.columns, y=abs(importances))\n",
    "plt.xticks(rotation=90)\n",
    "plt.title(\"Feature Importance of SVC\")\n",
    "plt.xlabel(\"Feature names\")\n",
    "plt.ylabel(\"Feature importance\")\n",
    "plt.show()"
   ]
  },
  {
   "cell_type": "markdown",
   "id": "5848f7fc",
   "metadata": {
    "id": "5848f7fc"
   },
   "source": [
    "#### 4.2.2 Decision Tree"
   ]
  },
  {
   "cell_type": "code",
   "execution_count": null,
   "id": "da1bffa5",
   "metadata": {
    "colab": {
     "base_uri": "https://localhost:8080/"
    },
    "id": "da1bffa5",
    "outputId": "bc637990-aaeb-40c3-c934-14aa1ec03f75"
   },
   "outputs": [],
   "source": [
    "dt = DecisionTreeClassifier(criterion='gini', max_depth = 5)\n",
    "dt.fit(X_train_prey,y_train_prey)\n",
    "print(f\"The train score is:\",dt.score(X_train_prey,y_train_prey))\n",
    "print(f\"The test score is:\",dt.score(X_test_prey,y_test_prey))"
   ]
  },
  {
   "cell_type": "code",
   "execution_count": null,
   "id": "60ed8813",
   "metadata": {
    "colab": {
     "base_uri": "https://localhost:8080/"
    },
    "id": "60ed8813",
    "outputId": "2a27770d-b629-4a5e-ff58-0b67451a55e3"
   },
   "outputs": [],
   "source": [
    "# Grid Search\n",
    "params = {'criterion': ['entropy'], 'max_depth' : [2,3,4,5,6]}\n",
    "dt_gscv = GridSearchCV(estimator = DecisionTreeClassifier(random_state=123), param_grid=params, cv=3, refit=True, n_jobs=-1)\n",
    "dt_gscv.fit(X_train_prey, y_train_prey)\n",
    "print(f'decision tree best hyperparams      : {dt_gscv.best_params_}')\n",
    "print(f'decision tree best mean cv accuracy : {dt_gscv.best_score_:.2f}')"
   ]
  },
  {
   "cell_type": "code",
   "execution_count": null,
   "id": "UKgC73J7_4zR",
   "metadata": {
    "colab": {
     "base_uri": "https://localhost:8080/",
     "height": 75
    },
    "id": "UKgC73J7_4zR",
    "outputId": "d535c871-11e0-4dcf-ae01-460b9b7ecb53"
   },
   "outputs": [],
   "source": [
    "dt_best = DecisionTreeClassifier(criterion='entropy',max_depth=6)\n",
    "dt_best.fit(X_train_prey, y_train_prey)"
   ]
  },
  {
   "cell_type": "code",
   "execution_count": null,
   "id": "BIBfcpAN_48k",
   "metadata": {
    "colab": {
     "base_uri": "https://localhost:8080/"
    },
    "id": "BIBfcpAN_48k",
    "outputId": "6a3018dc-947d-4f7e-b9d1-18a2bcec57ac"
   },
   "outputs": [],
   "source": [
    "importances = dt_best.feature_importances_\n",
    "features_dict = dict(zip(prey_x.columns, abs(importances)))\n",
    "important_features = sorted(features_dict.items(), key=lambda x: -x[1])\n",
    "important_features"
   ]
  },
  {
   "cell_type": "code",
   "execution_count": null,
   "id": "04pD9HEr_5FS",
   "metadata": {
    "colab": {
     "base_uri": "https://localhost:8080/",
     "height": 597
    },
    "id": "04pD9HEr_5FS",
    "outputId": "d874742f-17c7-4e35-8b0f-7588ecc7abd9"
   },
   "outputs": [],
   "source": [
    "sns.barplot(x=prey_x.columns, y=abs(importances))\n",
    "plt.xticks(rotation=90)\n",
    "plt.title(\"Feature Importance of Decision Tree\")\n",
    "plt.xlabel(\"Feature names\")\n",
    "plt.ylabel(\"Feature importance\")\n",
    "plt.show()"
   ]
  },
  {
   "cell_type": "markdown",
   "id": "3b2d9be4",
   "metadata": {
    "id": "3b2d9be4"
   },
   "source": [
    "#### 4.2.3 Random Forest"
   ]
  },
  {
   "cell_type": "code",
   "execution_count": null,
   "id": "d16b8d16",
   "metadata": {
    "colab": {
     "base_uri": "https://localhost:8080/"
    },
    "id": "d16b8d16",
    "outputId": "1bf668f9-534e-4c51-b4a7-74ed8f22ddab"
   },
   "outputs": [],
   "source": [
    "# normal random forest\n",
    "rfc = RandomForestClassifier(n_estimators=50, max_depth=5)\n",
    "rfc.fit(X_train_prey,y_train_prey)\n",
    "print(f\"The train score is:\",rfc.score(X_train_prey,y_train_prey))\n",
    "print(f\"The test score is:\",rfc.score(X_test_prey,y_test_prey))"
   ]
  },
  {
   "cell_type": "code",
   "execution_count": null,
   "id": "ac7a9f3b",
   "metadata": {
    "colab": {
     "base_uri": "https://localhost:8080/"
    },
    "id": "ac7a9f3b",
    "outputId": "aadbcdc2-a774-4536-c912-47d6cd211bfe"
   },
   "outputs": [],
   "source": [
    "# cross validation\n",
    "rfc_cv_scores = cross_val_score(rfc, X_train_prey, y_train_prey, cv=5, n_jobs=-1)\n",
    "rfc_cv_scores"
   ]
  },
  {
   "cell_type": "code",
   "execution_count": null,
   "id": "fe39efe6",
   "metadata": {
    "colab": {
     "base_uri": "https://localhost:8080/",
     "height": 112
    },
    "id": "fe39efe6",
    "outputId": "46ab2e8a-d1d2-4207-c424-a996951e59e2"
   },
   "outputs": [],
   "source": [
    "depths = [2,4,6,8,10]\n",
    "train_scores,test_scores = validation_curve(RandomForestClassifier(n_estimators=50), \n",
    "                                            X_train_prey, y_train_prey, \n",
    "                                            param_name='max_depth', param_range=depths, cv=3)\n",
    "mean_train_scores = np.average(train_scores, axis=1)\n",
    "mean_test_scores = np.average(test_scores, axis=1)\n",
    "pd.DataFrame([mean_train_scores.round(2),mean_test_scores.round(2)],\n",
    "             columns=pd.Series(depths,name='max_depth'),\n",
    "             index=['mean_train_scores','mean_test_scores'])"
   ]
  },
  {
   "cell_type": "code",
   "execution_count": null,
   "id": "29b2dd31",
   "metadata": {
    "colab": {
     "base_uri": "https://localhost:8080/"
    },
    "id": "29b2dd31",
    "outputId": "7b75b71e-e1ad-433b-f14f-0a5349215f4e"
   },
   "outputs": [],
   "source": [
    "# Grid Search\n",
    "params = {'n_estimators':[10,50,100,150],'max_depth':[2,3,4,5,6]}\n",
    "rfc_gscv = GridSearchCV(estimator=RandomForestClassifier(random_state=123), param_grid=params, cv=3, refit=True, n_jobs=-1)\n",
    "rfc_gscv.fit(X_train_prey, y_train_prey)\n",
    "print(f'random forest best hyperparams      : {rfc_gscv.best_params_}')\n",
    "print(f'random forest best mean cv accuracy : {rfc_gscv.best_score_:.2f}')"
   ]
  },
  {
   "cell_type": "code",
   "execution_count": null,
   "id": "ZSpoe3NmAMw3",
   "metadata": {
    "colab": {
     "base_uri": "https://localhost:8080/",
     "height": 75
    },
    "id": "ZSpoe3NmAMw3",
    "outputId": "4241137e-91bb-4cd2-db5d-51280e216e38"
   },
   "outputs": [],
   "source": [
    "rfc_best = RandomForestClassifier(max_depth=6,n_estimators=10)\n",
    "rfc_best.fit(X_train_prey, y_train_prey)"
   ]
  },
  {
   "cell_type": "code",
   "execution_count": null,
   "id": "WcCyeMeYAM3G",
   "metadata": {
    "colab": {
     "base_uri": "https://localhost:8080/"
    },
    "id": "WcCyeMeYAM3G",
    "outputId": "f4cea533-13f1-4d3e-9f32-17ab4705ccf2"
   },
   "outputs": [],
   "source": [
    "importances = rfc_best.feature_importances_\n",
    "features_dict = dict(zip(prey_x.columns, abs(importances)))\n",
    "important_features = sorted(features_dict.items(), key=lambda x: -x[1])\n",
    "important_features"
   ]
  },
  {
   "cell_type": "code",
   "execution_count": null,
   "id": "ZSqxdNKnAM71",
   "metadata": {
    "colab": {
     "base_uri": "https://localhost:8080/",
     "height": 597
    },
    "id": "ZSqxdNKnAM71",
    "outputId": "60933bfe-d468-4c41-f370-7a410238402a"
   },
   "outputs": [],
   "source": [
    "sns.barplot(x=prey_x.columns, y=abs(importances))\n",
    "plt.xticks(rotation=90)\n",
    "plt.title(\"Feature Importance of Random Forest\")\n",
    "plt.xlabel(\"Feature names\")\n",
    "plt.ylabel(\"Feature importance\")\n",
    "plt.show()"
   ]
  },
  {
   "cell_type": "markdown",
   "id": "279d91bc",
   "metadata": {
    "id": "279d91bc"
   },
   "source": [
    "#### 4.2.4 Adaboost"
   ]
  },
  {
   "cell_type": "code",
   "execution_count": null,
   "id": "1ae196b3",
   "metadata": {
    "colab": {
     "base_uri": "https://localhost:8080/"
    },
    "id": "1ae196b3",
    "outputId": "3438efa7-1f05-49b0-fda4-632633bc2019"
   },
   "outputs": [],
   "source": [
    "ada = AdaBoostClassifier(n_estimators=50, learning_rate=1)\n",
    "ada.fit(X_train_prey,y_train_prey)\n",
    "print(f\"The train score is:\",ada.score(X_train_prey,y_train_prey))\n",
    "print(f\"The test score is:\",ada.score(X_test_prey,y_test_prey))"
   ]
  },
  {
   "cell_type": "code",
   "execution_count": null,
   "id": "a81209a0",
   "metadata": {
    "colab": {
     "base_uri": "https://localhost:8080/"
    },
    "id": "a81209a0",
    "outputId": "2ec78037-5baa-48d3-dfd4-2d1746aed4ba"
   },
   "outputs": [],
   "source": [
    "# Grid Search\n",
    "params = {'n_estimators':[10,50,100,150],'learning_rate':[0.01,0.1,0.5,1]}\n",
    "ada_gscv = GridSearchCV(estimator=AdaBoostClassifier(random_state=123), param_grid=params, cv=3, refit=True, n_jobs=-1)\n",
    "ada_gscv.fit(X_train_prey, y_train_prey)\n",
    "print(f'ada best hyperparams      : {ada_gscv.best_params_}')\n",
    "print(f'ada best mean cv accuracy : {ada_gscv.best_score_:.2f}')"
   ]
  },
  {
   "cell_type": "code",
   "execution_count": null,
   "id": "MJSLOcZGAZT_",
   "metadata": {
    "colab": {
     "base_uri": "https://localhost:8080/",
     "height": 75
    },
    "id": "MJSLOcZGAZT_",
    "outputId": "54f799ac-4252-43e5-e884-0e3b3414f10c"
   },
   "outputs": [],
   "source": [
    "ada_best = AdaBoostClassifier(learning_rate=1,n_estimators=10)\n",
    "ada_best.fit(X_train_prey, y_train_prey)"
   ]
  },
  {
   "cell_type": "code",
   "execution_count": null,
   "id": "n0JvIECHAZZV",
   "metadata": {
    "colab": {
     "base_uri": "https://localhost:8080/"
    },
    "id": "n0JvIECHAZZV",
    "outputId": "fb8d9dce-7b93-42df-a466-c7c839b2e170"
   },
   "outputs": [],
   "source": [
    "importances = ada_best.feature_importances_\n",
    "features_dict = dict(zip(prey_x.columns, abs(importances)))\n",
    "important_features = sorted(features_dict.items(), key=lambda x: -x[1])\n",
    "important_features"
   ]
  },
  {
   "cell_type": "code",
   "execution_count": null,
   "id": "g5Y02t0hAZdg",
   "metadata": {
    "colab": {
     "base_uri": "https://localhost:8080/",
     "height": 597
    },
    "id": "g5Y02t0hAZdg",
    "outputId": "f7d157f6-f1bd-431a-a2ed-238eeda38a35"
   },
   "outputs": [],
   "source": [
    "sns.barplot(x=prey_x.columns, y=abs(importances))\n",
    "plt.xticks(rotation=90)\n",
    "plt.title(\"Feature Importance of AdaBoost\")\n",
    "plt.xlabel(\"Feature names\")\n",
    "plt.ylabel(\"Feature importance\")\n",
    "plt.show()"
   ]
  },
  {
   "cell_type": "markdown",
   "id": "5276d37b",
   "metadata": {},
   "source": [
    "## 5 PCA"
   ]
  },
  {
   "cell_type": "markdown",
   "id": "d98cdfd6",
   "metadata": {},
   "source": [
    "### 5.1 PCA for predator"
   ]
  },
  {
   "cell_type": "code",
   "execution_count": null,
   "id": "834cd362",
   "metadata": {},
   "outputs": [],
   "source": [
    "pca = PCA(n_components=3, random_state=123)\n",
    "\n",
    "X_train_pca_predator = pca.fit_transform(X_train_predator)\n",
    "X_test_pca_predator = pca.transform(X_test_predator)\n",
    "\n",
    "pca.explained_variance_ratio_"
   ]
  },
  {
   "cell_type": "code",
   "execution_count": null,
   "id": "e16f11f1",
   "metadata": {},
   "outputs": [],
   "source": [
    "from mpl_toolkits.mplot3d import Axes3D\n",
    "\n",
    "fig = plt.figure()\n",
    "ax = Axes3D(fig)\n",
    "ax.scatter(X_train_pca_predator[:,0],X_train_pca_predator[:,1],X_train_pca_predator[:,2])\n",
    "plt.title('PCA for Predator')"
   ]
  },
  {
   "cell_type": "code",
   "execution_count": null,
   "id": "13df20d4",
   "metadata": {},
   "outputs": [],
   "source": [
    "fig, ax=plt.subplots(nrows=1, ncols=3, figsize=(15,5))\n",
    "\n",
    "sns.scatterplot(x = X_train_pca_predator[:,0], y = X_train_pca_predator[:,1], hue=y_train_predator, ax=ax[0])\n",
    "ax[0].set_title(\"Dimensions 0&1 of the PCA Transformation\")\n",
    "\n",
    "sns.scatterplot(x = X_train_pca_predator[:,0], y = X_train_pca_predator[:,2], hue=y_train_predator, ax=ax[1])\n",
    "ax[1].set_title(\"Dimensions 0&2 of the PCA Transformation\")\n",
    "\n",
    "sns.scatterplot(x = X_train_pca_predator[:,1], y = X_train_pca_predator[:,2], hue=y_train_predator, ax=ax[2])\n",
    "ax[2].set_title(\"Dimensions 1&2 of the PCA Transformation\")"
   ]
  },
  {
   "cell_type": "markdown",
   "id": "c819ae3a",
   "metadata": {},
   "source": [
    "### 5.2 PCA for prey"
   ]
  },
  {
   "cell_type": "code",
   "execution_count": null,
   "id": "4178ad7c",
   "metadata": {},
   "outputs": [],
   "source": [
    "pca = PCA(n_components=3, random_state=123)\n",
    "\n",
    "X_train_pca_prey = pca.fit_transform(X_train_prey)\n",
    "X_test_pca_prey = pca.transform(X_test_prey)\n",
    "\n",
    "pca.explained_variance_ratio_"
   ]
  },
  {
   "cell_type": "code",
   "execution_count": null,
   "id": "e16ee1b6",
   "metadata": {},
   "outputs": [],
   "source": [
    "fig = plt.figure()\n",
    "ax = Axes3D(fig)\n",
    "ax.scatter(X_train_pca_prey[:,0],X_train_pca_prey[:,1],X_train_pca_prey[:,2])\n",
    "plt.title('PCA for Predator')"
   ]
  },
  {
   "cell_type": "code",
   "execution_count": null,
   "id": "76f7d127",
   "metadata": {},
   "outputs": [],
   "source": [
    "fig, ax=plt.subplots(nrows=1, ncols=3, figsize=(15,5))\n",
    "\n",
    "sns.scatterplot(x = X_train_pca_prey[:,0], y = X_train_pca_prey[:,1], hue=y_train_prey, ax=ax[0])\n",
    "ax[0].set_title(\"Dimensions 0&1 of the PCA Transformation\")\n",
    "\n",
    "sns.scatterplot(x = X_train_pca_prey[:,0], y = X_train_pca_prey[:,2], hue=y_train_prey, ax=ax[1])\n",
    "ax[1].set_title(\"Dimensions 0&2 of the PCA Transformation\")\n",
    "\n",
    "sns.scatterplot(x = X_train_pca_prey[:,1], y = X_train_pca_prey[:,2], hue=y_train_prey, ax=ax[2])\n",
    "ax[2].set_title(\"Dimensions 1&2 of the PCA Transformation\")"
   ]
  },
  {
   "cell_type": "markdown",
   "id": "985189b8",
   "metadata": {},
   "source": [
    "## 6 Clustering Model: Kmeans"
   ]
  },
  {
   "cell_type": "markdown",
   "id": "c2ce53fc",
   "metadata": {},
   "source": [
    "### 6.1 Kmeans to cluster predator"
   ]
  },
  {
   "cell_type": "code",
   "execution_count": null,
   "id": "dd69ca2c",
   "metadata": {},
   "outputs": [],
   "source": [
    "inertia = []\n",
    "for i in range(1, 11):\n",
    "    km = KMeans(n_clusters=i, random_state=0)\n",
    "    km.fit(predator_x)\n",
    "    inertia.append(km.inertia_)\n",
    "\n",
    "plt.plot(range(1, 11), inertia, marker='o')"
   ]
  },
  {
   "cell_type": "code",
   "execution_count": null,
   "id": "0d5cdb2c",
   "metadata": {},
   "outputs": [],
   "source": [
    "kmeans_predator = KMeans(n_clusters=2, random_state=123)\n",
    "kmeans_predator.fit(predator_x)\n",
    "labels_predator = kmeans_predator.labels_\n",
    "labels_predator = pd.DataFrame(labels_predator, columns=[\"kmeans_label\"])\n",
    "labels_predator.value_counts()"
   ]
  },
  {
   "cell_type": "code",
   "execution_count": null,
   "id": "188fe69c",
   "metadata": {},
   "outputs": [],
   "source": [
    "X_predator_cluster = pd.concat([predator_x, predator_y, labels_predator], axis=1)\n",
    "X_predator_cluster.groupby('Predator common name').mean()"
   ]
  },
  {
   "cell_type": "code",
   "execution_count": null,
   "id": "251a8efc",
   "metadata": {},
   "outputs": [],
   "source": [
    "y_train_predator.value_counts()"
   ]
  },
  {
   "cell_type": "markdown",
   "id": "cc8eaa6d",
   "metadata": {},
   "source": [
    "### 6.2 Kmeans to cluster prey"
   ]
  },
  {
   "cell_type": "code",
   "execution_count": null,
   "id": "c65b2091",
   "metadata": {},
   "outputs": [],
   "source": [
    "inertia = []\n",
    "for i in range(1, 11):\n",
    "    km = KMeans(n_clusters=i, random_state=0)\n",
    "    km.fit(prey_x)\n",
    "    inertia.append(km.inertia_)\n",
    "\n",
    "plt.plot(range(1, 11), inertia, marker='o')"
   ]
  },
  {
   "cell_type": "code",
   "execution_count": null,
   "id": "b4f88f51",
   "metadata": {},
   "outputs": [],
   "source": [
    "kmeans_prey = KMeans(n_clusters=2, random_state=123)\n",
    "kmeans_prey.fit(prey_x)\n",
    "labels_prey = kmeans_prey.labels_\n",
    "labels_prey = pd.DataFrame(labels_prey, columns=[\"kmeans_label\"])\n",
    "labels_prey.value_counts()"
   ]
  },
  {
   "cell_type": "code",
   "execution_count": null,
   "id": "02407c1a",
   "metadata": {},
   "outputs": [],
   "source": [
    "X_prey_cluster = pd.concat([prey_x, prey_y, labels_prey], axis=1)\n",
    "X_prey_cluster.groupby('Prey taxon').mean()"
   ]
  },
  {
   "cell_type": "markdown",
   "id": "14fd90df",
   "metadata": {
    "id": "14fd90df"
   },
   "source": [
    "## 7. Regression Model"
   ]
  },
  {
   "cell_type": "code",
   "execution_count": null,
   "id": "13af80fa",
   "metadata": {},
   "outputs": [],
   "source": [
    "merged_df = pd.merge(df_predator, df_prey, left_index=True, right_index=True)\n",
    "\n",
    "# print(merged_df.columns)\n",
    "\n",
    "merged_df['Mass difference'] = merged_df['Predator mass'] - merged_df['Prey mass']\n",
    "# merged_df['Mass difference'] = merged_df['Predator length'] - merged_df['Prey length']\n",
    "\n",
    "reg_x = merged_df[['Type of feeding interaction', 'Geographic location_x', 'Latitude_x', 'Latitude Degree_x', \n",
    "                   'Latitude Minute_x', 'Latitude label_x', 'Longitude_x', 'Longitude Degree_x', 'Longitude Minute_x',\n",
    "                   'Longitude label_x', 'Depth_x', 'Mean annual temp_x', 'SD annual temp_x',\n",
    "                   'Mean PP_x', 'SD PP_x', 'Specific habitat_x']]\n",
    "\n",
    "reg_y = merged_df['Mass difference']"
   ]
  },
  {
   "cell_type": "code",
   "execution_count": null,
   "id": "6a551789",
   "metadata": {},
   "outputs": [],
   "source": [
    "reg_y"
   ]
  },
  {
   "cell_type": "code",
   "execution_count": null,
   "id": "5c97aac9",
   "metadata": {},
   "outputs": [],
   "source": [
    "non_numeric_columns = reg_x.select_dtypes(exclude=['int64', 'float64']).columns\n",
    "\n",
    "ordinalencoder = OrdinalEncoder()\n",
    "\n",
    "for col_name in list(non_numeric_columns):\n",
    "#     print(col_name)\n",
    "    reg_x[col_name] = reg_x[col_name].astype(str)\n",
    "    reg_x[col_name] = ordinalencoder.fit_transform(reg_x[[col_name]]).reshape(1,-1).tolist()[0]"
   ]
  },
  {
   "cell_type": "code",
   "execution_count": null,
   "id": "561177c7",
   "metadata": {},
   "outputs": [],
   "source": [
    "# Train Test Split\n",
    "X_train_len, X_test_len, y_train_len, y_test_len = train_test_split(reg_x, \n",
    "                                                                    reg_y, \n",
    "                                                                    test_size=0.2, \n",
    "                                                                    random_state=123)\n",
    "\n",
    "# Scaling\n",
    "scaler = StandardScaler()\n",
    "X_train_len = scaler.fit_transform(X_train_len)   \n",
    "X_test_len = scaler.transform(X_test_len)  "
   ]
  },
  {
   "cell_type": "markdown",
   "id": "51a5b2d1",
   "metadata": {
    "id": "51a5b2d1"
   },
   "source": [
    "### 7.1 Linear Regression "
   ]
  },
  {
   "cell_type": "code",
   "execution_count": null,
   "id": "20855f94",
   "metadata": {
    "colab": {
     "base_uri": "https://localhost:8080/"
    },
    "id": "20855f94",
    "outputId": "2f2ba0c9-e59c-4368-fefe-44242c9a030d"
   },
   "outputs": [],
   "source": [
    "reg = LinearRegression()\n",
    "reg.fit(X_train_len,y_train_len)\n",
    "print(f\"The train score:\", reg.score(X_train_len,y_train_len))\n",
    "print(f\"The test score:\", reg.score(X_test_len,y_test_len))"
   ]
  },
  {
   "cell_type": "markdown",
   "id": "d4339668",
   "metadata": {
    "id": "d4339668"
   },
   "source": [
    "### 7.2 Ridge Regression"
   ]
  },
  {
   "cell_type": "code",
   "execution_count": null,
   "id": "4030e550",
   "metadata": {
    "colab": {
     "base_uri": "https://localhost:8080/"
    },
    "id": "4030e550",
    "outputId": "4206bc2d-b4cd-4787-ddb9-28c026530943"
   },
   "outputs": [],
   "source": [
    "ridge = Ridge(alpha=1)\n",
    "ridge.fit(X_train_len,y_train_len)\n",
    "print(f\"The train score:\", ridge.score(X_train_len,y_train_len))\n",
    "print(f\"The test score:\", ridge.score(X_test_len,y_test_len))"
   ]
  },
  {
   "cell_type": "code",
   "execution_count": null,
   "id": "1081424f",
   "metadata": {},
   "outputs": [],
   "source": [
    "params = {'alpha':[0.01,0.1,0.5,1]}\n",
    "ridge_gscv = GridSearchCV(estimator=Ridge(), param_grid=params, cv=3, refit=True, n_jobs=-1)\n",
    "ridge_gscv.fit(X_train_len, y_train_len)\n",
    "print(f'ada best hyperparams      : {ridge_gscv.best_params_}')\n",
    "print(f'ada best mean cv accuracy : {ridge_gscv.best_score_:.2f}')"
   ]
  },
  {
   "cell_type": "markdown",
   "id": "830975f5",
   "metadata": {
    "id": "830975f5"
   },
   "source": [
    "### 7.3 Lasso Regression"
   ]
  },
  {
   "cell_type": "code",
   "execution_count": null,
   "id": "16a5de1f",
   "metadata": {
    "colab": {
     "base_uri": "https://localhost:8080/"
    },
    "id": "16a5de1f",
    "outputId": "1a0f0298-b3b5-4bff-9c1d-aece22d1c212"
   },
   "outputs": [],
   "source": [
    "lasso = Lasso(alpha=1)\n",
    "lasso.fit(X_train_len,y_train_len)\n",
    "print(f\"The train score:\", lasso.score(X_train_len,y_train_len))\n",
    "print(f\"The test score:\", lasso.score(X_test_len,y_test_len))"
   ]
  },
  {
   "cell_type": "code",
   "execution_count": null,
   "id": "231ae199",
   "metadata": {},
   "outputs": [],
   "source": [
    "params = {'alpha':[0.01,0.1,0.5,1]}\n",
    "lasso_gscv = GridSearchCV(estimator=Lasso(), param_grid=params, cv=3, refit=True, n_jobs=-1)\n",
    "lasso_gscv.fit(X_train_len, y_train_len)\n",
    "print(f'ada best hyperparams      : {lasso_gscv.best_params_}')\n",
    "print(f'ada best mean cv accuracy : {lasso_gscv.best_score_:.2f}')"
   ]
  },
  {
   "cell_type": "markdown",
   "id": "9b3e68ce",
   "metadata": {
    "id": "9b3e68ce"
   },
   "source": [
    "### 7.5 Decision Tree Regression"
   ]
  },
  {
   "cell_type": "code",
   "execution_count": null,
   "id": "8de5aa09",
   "metadata": {
    "colab": {
     "base_uri": "https://localhost:8080/"
    },
    "id": "8de5aa09",
    "outputId": "db6adb4e-5253-463b-c120-71930d641d87"
   },
   "outputs": [],
   "source": [
    "dtr = DecisionTreeRegressor(max_depth=5)\n",
    "dtr.fit(X_train_len,y_train_len)\n",
    "print(f\"The train score:\", dtr.score(X_train_len,y_train_len))\n",
    "print(f\"The test score:\", dtr.score(X_test_len,y_test_len))"
   ]
  },
  {
   "cell_type": "code",
   "execution_count": null,
   "id": "44cce3a6",
   "metadata": {},
   "outputs": [],
   "source": [
    "params = {'criterion': ['mse', 'mae'], 'max_depth' : [2,3,4,5,6]}\n",
    "dt_gscv = GridSearchCV(estimator = DecisionTreeRegressor(random_state=123), param_grid=params, cv=3, refit=True, n_jobs=-1)\n",
    "dt_gscv.fit(X_train_len, y_train_len)\n",
    "print(f'decision tree best hyperparams      : {dt_gscv.best_params_}')\n",
    "print(f'decision tree best mean cv accuracy : {dt_gscv.best_score_:.2f}')"
   ]
  },
  {
   "cell_type": "code",
   "execution_count": null,
   "id": "49d9ed8e",
   "metadata": {},
   "outputs": [],
   "source": [
    "df = pd.DataFrame(dtr.feature_importances_, index=reg_x.columns).sort_values(0, ascending=False).reset_index().head(6)\n",
    "df['index'] = df['index'].str.split('_').str[0]\n",
    "df"
   ]
  },
  {
   "cell_type": "code",
   "execution_count": null,
   "id": "54f65b3d",
   "metadata": {},
   "outputs": [],
   "source": [
    "sns.set_style(\"whitegrid\")\n",
    "sns.set(rc={'figure.figsize':(11.7,5)})\n",
    "\n",
    "# Create the bar chart using seaborn's barplot function\n",
    "ax = sns.barplot(y=0, x='index', data=df)\n",
    "\n",
    "# Set the title and axis labels\n",
    "ax.set_title(\"Feature Importance for Decision Tree\")\n",
    "ax.set_xlabel(\"Importance\")\n",
    "ax.set_ylabel(\"Feature\")\n",
    "\n",
    "# Show the plot\n",
    "plt.show()"
   ]
  },
  {
   "cell_type": "markdown",
   "id": "159ac5a3",
   "metadata": {
    "id": "159ac5a3"
   },
   "source": [
    "### 5.6 Adaboost Regression"
   ]
  },
  {
   "cell_type": "code",
   "execution_count": null,
   "id": "36b6f199",
   "metadata": {
    "colab": {
     "base_uri": "https://localhost:8080/"
    },
    "id": "36b6f199",
    "outputId": "08c11aeb-9ff9-4e9d-84dd-11d5bcca407c"
   },
   "outputs": [],
   "source": [
    "adarg = AdaBoostRegressor(n_estimators=100, random_state=123)\n",
    "adarg.fit(X_train_len,y_train_len)\n",
    "print(f\"The train score:\", adarg.score(X_train_len,y_train_len))\n",
    "print(f\"The test score:\", adarg.score(X_test_len,y_test_len))"
   ]
  },
  {
   "cell_type": "code",
   "execution_count": null,
   "id": "04cf8c89",
   "metadata": {},
   "outputs": [],
   "source": [
    "params = {'n_estimators':[10,50,100,150],'learning_rate':[0.01,0.1,0.5,1]}\n",
    "ada_gscv = GridSearchCV(estimator=AdaBoostRegressor(random_state=123), param_grid=params, cv=3, refit=True, n_jobs=-1)\n",
    "ada_gscv.fit(X_train_len, y_train_len)\n",
    "print(f'ada best hyperparams      : {ada_gscv.best_params_}')\n",
    "print(f'ada best mean cv accuracy : {ada_gscv.best_score_:.2f}')"
   ]
  },
  {
   "cell_type": "code",
   "execution_count": null,
   "id": "8a1ba0bb",
   "metadata": {},
   "outputs": [],
   "source": [
    "df = pd.DataFrame(adarg.feature_importances_, index=reg_x.columns).sort_values(0, ascending=False).reset_index().head(6)\n",
    "df['index'] = df['index'].str.split('_').str[0]\n",
    "df"
   ]
  },
  {
   "cell_type": "code",
   "execution_count": null,
   "id": "0dd19d73",
   "metadata": {},
   "outputs": [],
   "source": [
    "sns.set_style(\"whitegrid\")\n",
    "sns.set(rc={'figure.figsize':(11.7,5)})\n",
    "\n",
    "# Create the bar chart using seaborn's barplot function\n",
    "ax = sns.barplot(y=0, x='index', data=df)\n",
    "\n",
    "# Set the title and axis labels\n",
    "ax.set_title(\"Feature Importance for AdaBoost\")\n",
    "ax.set_xlabel(\"Importance\")\n",
    "ax.set_ylabel(\"Feature\")\n",
    "\n",
    "# Show the plot\n",
    "plt.show()"
   ]
  },
  {
   "cell_type": "markdown",
   "id": "3a93afef",
   "metadata": {},
   "source": [
    "### 5.6 Random Forest Regression"
   ]
  },
  {
   "cell_type": "code",
   "execution_count": null,
   "id": "49a67b94",
   "metadata": {},
   "outputs": [],
   "source": [
    "rf = RandomForestRegressor(max_depth=5)\n",
    "rf.fit(X_train_len,y_train_len)\n",
    "print(f\"The train score:\", dtr.score(X_train_len,y_train_len))\n",
    "print(f\"The test score:\", dtr.score(X_test_len,y_test_len))\n",
    "\n",
    "\n",
    "depths = [2,4,6,8,10]\n",
    "train_scores,test_scores = validation_curve(RandomForestRegressor(n_estimators=50), \n",
    "                                            X_train_len, y_train_len, \n",
    "                                            param_name='max_depth', param_range=depths, cv=3)\n",
    "mean_train_scores = np.average(train_scores, axis=1)\n",
    "mean_test_scores = np.average(test_scores, axis=1)\n",
    "pd.DataFrame([mean_train_scores.round(2),mean_test_scores.round(2)],\n",
    "             columns=pd.Series(depths,name='max_depth'),\n",
    "             index=['mean_train_scores','mean_test_scores'])"
   ]
  },
  {
   "cell_type": "code",
   "execution_count": null,
   "id": "ce1c5437",
   "metadata": {},
   "outputs": [],
   "source": [
    "params = {'n_estimators':[10,50,100,150],'max_depth':[2,3,4,5,6]}\n",
    "rfc_gscv = GridSearchCV(estimator=RandomForestRegressor(random_state=123), param_grid=params, cv=3, refit=True, n_jobs=-1)\n",
    "rfc_gscv.fit(X_train_len, y_train_len)\n",
    "print(f'random forest best hyperparams      : {rfc_gscv.best_params_}')\n",
    "print(f'random forest best mean cv accuracy : {rfc_gscv.best_score_:.2f}')"
   ]
  },
  {
   "cell_type": "code",
   "execution_count": null,
   "id": "04099ca6",
   "metadata": {},
   "outputs": [],
   "source": [
    "df = pd.DataFrame(rf.feature_importances_, index=reg_x.columns).sort_values(0, ascending=False).reset_index().head(6)\n",
    "df['index'] = df['index'].str.split('_').str[0]\n",
    "df"
   ]
  },
  {
   "cell_type": "code",
   "execution_count": null,
   "id": "9ccf039b",
   "metadata": {},
   "outputs": [],
   "source": [
    "sns.set_style(\"whitegrid\")\n",
    "sns.set(rc={'figure.figsize':(11.7,5)})\n",
    "\n",
    "# Create the bar chart using seaborn's barplot function\n",
    "ax = sns.barplot(y=0, x='index', data=df)\n",
    "\n",
    "# Set the title and axis labels\n",
    "ax.set_title(\"Feature Importance for Random Forest\")\n",
    "ax.set_xlabel(\"Importance\")\n",
    "ax.set_ylabel(\"Feature\")\n",
    "\n",
    "# Show the plot\n",
    "plt.show()"
   ]
  }
 ],
 "metadata": {
  "colab": {
   "provenance": []
  },
  "kernelspec": {
   "display_name": "Python 3 (ipykernel)",
   "language": "python",
   "name": "python3"
  },
  "language_info": {
   "codemirror_mode": {
    "name": "ipython",
    "version": 3
   },
   "file_extension": ".py",
   "mimetype": "text/x-python",
   "name": "python",
   "nbconvert_exporter": "python",
   "pygments_lexer": "ipython3",
   "version": "3.9.12"
  },
  "vscode": {
   "interpreter": {
    "hash": "68a18809727d8e917faf1affb9f75fdaf9970c784f0f4145d4adf01af3480311"
   }
  }
 },
 "nbformat": 4,
 "nbformat_minor": 5
}
